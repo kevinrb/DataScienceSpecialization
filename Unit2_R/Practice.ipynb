{
 "cells": [
  {
   "cell_type": "code",
   "execution_count": 29,
   "metadata": {
    "scrolled": false
   },
   "outputs": [],
   "source": [
    "makeVector <- function(x = numeric()) {\n",
    "        m <- NULL\n",
    "        set <- function(y) {\n",
    "                x <<- y\n",
    "                m <<- NULL\n",
    "        }\n",
    "        get <- function() x\n",
    "        setmean <- function(mean) m <<- mean\n",
    "        getmean <- function() m\n",
    "        list(set = set, get = get,\n",
    "             setmean = setmean,\n",
    "             getmean = getmean)\n",
    "}\n",
    "t<-makeVector(3)"
   ]
  },
  {
   "cell_type": "code",
   "execution_count": 39,
   "metadata": {},
   "outputs": [
    {
     "name": "stderr",
     "output_type": "stream",
     "text": [
      "getting cached data\n",
      "\n"
     ]
    },
    {
     "data": {
      "text/html": [
       "3"
      ],
      "text/latex": [
       "3"
      ],
      "text/markdown": [
       "3"
      ],
      "text/plain": [
       "[1] 3"
      ]
     },
     "metadata": {},
     "output_type": "display_data"
    },
    {
     "data": {
      "text/html": [
       "3"
      ],
      "text/latex": [
       "3"
      ],
      "text/markdown": [
       "3"
      ],
      "text/plain": [
       "[1] 3"
      ]
     },
     "metadata": {},
     "output_type": "display_data"
    }
   ],
   "source": [
    "cachemean <- function(x, ...) {\n",
    "        m <- x$getmean()\n",
    "        if(!is.null(m)) {\n",
    "                message(\"getting cached data\")\n",
    "                return(m)\n",
    "        }\n",
    "        data <- x$get()\n",
    "        m <- mean(data, ...)\n",
    "        x$setmean(m)\n",
    "        m\n",
    "}\n",
    "cachemean(t)\n",
    "t$getmean()"
   ]
  },
  {
   "cell_type": "code",
   "execution_count": 61,
   "metadata": {},
   "outputs": [
    {
     "data": {
      "text/html": [
       "<table>\n",
       "<caption>A matrix: 2 × 2 of type dbl</caption>\n",
       "<tbody>\n",
       "\t<tr><td>-3</td><td>1</td></tr>\n",
       "\t<tr><td> 5</td><td>0</td></tr>\n",
       "</tbody>\n",
       "</table>\n"
      ],
      "text/latex": [
       "A matrix: 2 × 2 of type dbl\n",
       "\\begin{tabular}{ll}\n",
       "\t -3 & 1\\\\\n",
       "\t  5 & 0\\\\\n",
       "\\end{tabular}\n"
      ],
      "text/markdown": [
       "\n",
       "A matrix: 2 × 2 of type dbl\n",
       "\n",
       "| -3 | 1 |\n",
       "|  5 | 0 |\n",
       "\n"
      ],
      "text/plain": [
       "     [,1] [,2]\n",
       "[1,] -3   1   \n",
       "[2,]  5   0   "
      ]
     },
     "metadata": {},
     "output_type": "display_data"
    },
    {
     "data": {
      "text/html": [
       "<table>\n",
       "<caption>A matrix: 2 × 2 of type dbl</caption>\n",
       "<tbody>\n",
       "\t<tr><td>0</td><td>0.2</td></tr>\n",
       "\t<tr><td>1</td><td>0.6</td></tr>\n",
       "</tbody>\n",
       "</table>\n"
      ],
      "text/latex": [
       "A matrix: 2 × 2 of type dbl\n",
       "\\begin{tabular}{ll}\n",
       "\t 0 & 0.2\\\\\n",
       "\t 1 & 0.6\\\\\n",
       "\\end{tabular}\n"
      ],
      "text/markdown": [
       "\n",
       "A matrix: 2 × 2 of type dbl\n",
       "\n",
       "| 0 | 0.2 |\n",
       "| 1 | 0.6 |\n",
       "\n"
      ],
      "text/plain": [
       "     [,1] [,2]\n",
       "[1,] 0    0.2 \n",
       "[2,] 1    0.6 "
      ]
     },
     "metadata": {},
     "output_type": "display_data"
    }
   ],
   "source": [
    "X<-cbind(c(-3,5),c(1,0))\n",
    "X\n",
    "solve(X)"
   ]
  },
  {
   "cell_type": "code",
   "execution_count": 62,
   "metadata": {
    "scrolled": true
   },
   "outputs": [
    {
     "data": {
      "text/html": [
       "<table>\n",
       "<caption>A matrix: 2 × 2 of type dbl</caption>\n",
       "<tbody>\n",
       "\t<tr><td>0</td><td>0.2</td></tr>\n",
       "\t<tr><td>1</td><td>0.6</td></tr>\n",
       "</tbody>\n",
       "</table>\n"
      ],
      "text/latex": [
       "A matrix: 2 × 2 of type dbl\n",
       "\\begin{tabular}{ll}\n",
       "\t 0 & 0.2\\\\\n",
       "\t 1 & 0.6\\\\\n",
       "\\end{tabular}\n"
      ],
      "text/markdown": [
       "\n",
       "A matrix: 2 × 2 of type dbl\n",
       "\n",
       "| 0 | 0.2 |\n",
       "| 1 | 0.6 |\n",
       "\n"
      ],
      "text/plain": [
       "     [,1] [,2]\n",
       "[1,] 0    0.2 \n",
       "[2,] 1    0.6 "
      ]
     },
     "metadata": {},
     "output_type": "display_data"
    }
   ],
   "source": [
    "makeCacheMatrix <- function(x = matrix()) {\n",
    "        im <- NULL\n",
    "        set <- function(y) {\n",
    "                x <<- y\n",
    "                im <<- NULL\n",
    "        }\n",
    "        get <- function() x\n",
    "        setinv <- function(inv) im <<- inv\n",
    "        getinv <- function() im\n",
    "        list(set = set, get = get,\n",
    "             setinv = setinv,\n",
    "             getinv = getinv)\n",
    "}\n",
    "XX<-makeCacheMatrix(X)\n",
    "solve(X)"
   ]
  },
  {
   "cell_type": "code",
   "execution_count": 67,
   "metadata": {},
   "outputs": [],
   "source": [
    "cacheSolve <- function(x, ...) {\n",
    "        im <- x$getinv()\n",
    "        if(!is.null(im)) {\n",
    "                message(\"getting cached data\")\n",
    "                return(im)\n",
    "        }\n",
    "        data <- x$get()\n",
    "        im <- solve(data, ...)\n",
    "        x$setinv(im)\n",
    "        im\n",
    "}"
   ]
  },
  {
   "cell_type": "code",
   "execution_count": 68,
   "metadata": {},
   "outputs": [
    {
     "data": {
      "text/plain": [
       "NULL"
      ]
     },
     "metadata": {},
     "output_type": "display_data"
    },
    {
     "data": {
      "text/html": [
       "<table>\n",
       "<caption>A matrix: 2 × 2 of type dbl</caption>\n",
       "<tbody>\n",
       "\t<tr><td>0</td><td>0.2</td></tr>\n",
       "\t<tr><td>1</td><td>0.6</td></tr>\n",
       "</tbody>\n",
       "</table>\n"
      ],
      "text/latex": [
       "A matrix: 2 × 2 of type dbl\n",
       "\\begin{tabular}{ll}\n",
       "\t 0 & 0.2\\\\\n",
       "\t 1 & 0.6\\\\\n",
       "\\end{tabular}\n"
      ],
      "text/markdown": [
       "\n",
       "A matrix: 2 × 2 of type dbl\n",
       "\n",
       "| 0 | 0.2 |\n",
       "| 1 | 0.6 |\n",
       "\n"
      ],
      "text/plain": [
       "     [,1] [,2]\n",
       "[1,] 0    0.2 \n",
       "[2,] 1    0.6 "
      ]
     },
     "metadata": {},
     "output_type": "display_data"
    },
    {
     "data": {
      "text/html": [
       "<table>\n",
       "<caption>A matrix: 2 × 2 of type dbl</caption>\n",
       "<tbody>\n",
       "\t<tr><td>0</td><td>0.2</td></tr>\n",
       "\t<tr><td>1</td><td>0.6</td></tr>\n",
       "</tbody>\n",
       "</table>\n"
      ],
      "text/latex": [
       "A matrix: 2 × 2 of type dbl\n",
       "\\begin{tabular}{ll}\n",
       "\t 0 & 0.2\\\\\n",
       "\t 1 & 0.6\\\\\n",
       "\\end{tabular}\n"
      ],
      "text/markdown": [
       "\n",
       "A matrix: 2 × 2 of type dbl\n",
       "\n",
       "| 0 | 0.2 |\n",
       "| 1 | 0.6 |\n",
       "\n"
      ],
      "text/plain": [
       "     [,1] [,2]\n",
       "[1,] 0    0.2 \n",
       "[2,] 1    0.6 "
      ]
     },
     "metadata": {},
     "output_type": "display_data"
    },
    {
     "name": "stdout",
     "output_type": "stream",
     "text": [
      "No traceback available \n"
     ]
    }
   ],
   "source": [
    "XX$getinv()\n",
    "cacheSolve(XX)\n",
    "XX$getinv()\n",
    "\n",
    "traceback()"
   ]
  },
  {
   "cell_type": "code",
   "execution_count": 21,
   "metadata": {
    "scrolled": true
   },
   "outputs": [
    {
     "ename": "ERROR",
     "evalue": "Error in mean(xx): object 'xx' not found\n",
     "output_type": "error",
     "traceback": [
      "Error in mean(xx): object 'xx' not found\nTraceback:\n",
      "1. mean(xx)"
     ]
    }
   ],
   "source": [
    "XX$getinv()"
   ]
  },
  {
   "cell_type": "code",
   "execution_count": 69,
   "metadata": {},
   "outputs": [],
   "source": [
    "makeCacheMatrix <- function(x = matrix()) {\n",
    "\n",
    "makeVector <- function(x = matrix()) {\n",
    "        inv <- NULL\n",
    "        set <- function(y) {\n",
    "                x <<- y\n",
    "                inv <<- NULL\n",
    "        }\n",
    "        get <- function() x\n",
    "        setinverse <- function(inverse) inv <<- inverse\n",
    "        getinverse <- function() inv\n",
    "        list(set = set, get = get,\n",
    "             setinverse = setinverse,\n",
    "             getinverse = getinverse)\n",
    "}\n",
    "}\n",
    "cacheSolve <- function(x, ...) {\n",
    "        ## Return a matrix that is the inverse of 'x'\n",
    "        inv <- x$getinverse()\n",
    "        if(!is.null(inv)) {\n",
    "                message(\"getting cached data\")\n",
    "                return(inv)\n",
    "        }\n",
    "        data <- x$get()\n",
    "        inv <- inverse(data, ...)\n",
    "        x$setinverse(inv)\n",
    "        inv\n",
    "}"
   ]
  },
  {
   "cell_type": "code",
   "execution_count": 70,
   "metadata": {},
   "outputs": [
    {
     "data": {
      "text/html": [
       "<table>\n",
       "<caption>A matrix: 2 × 2 of type dbl</caption>\n",
       "<tbody>\n",
       "\t<tr><td>-3</td><td>1</td></tr>\n",
       "\t<tr><td> 5</td><td>0</td></tr>\n",
       "</tbody>\n",
       "</table>\n"
      ],
      "text/latex": [
       "A matrix: 2 × 2 of type dbl\n",
       "\\begin{tabular}{ll}\n",
       "\t -3 & 1\\\\\n",
       "\t  5 & 0\\\\\n",
       "\\end{tabular}\n"
      ],
      "text/markdown": [
       "\n",
       "A matrix: 2 × 2 of type dbl\n",
       "\n",
       "| -3 | 1 |\n",
       "|  5 | 0 |\n",
       "\n"
      ],
      "text/plain": [
       "     [,1] [,2]\n",
       "[1,] -3   1   \n",
       "[2,]  5   0   "
      ]
     },
     "metadata": {},
     "output_type": "display_data"
    },
    {
     "data": {
      "text/html": [
       "<pre class=language-r><code>function (x = matrix()) \n",
       "{\n",
       "<span style=white-space:pre-wrap>    inv &lt;- NULL</span>\n",
       "<span style=white-space:pre-wrap>    set &lt;- function(y) {</span>\n",
       "<span style=white-space:pre-wrap>        x &lt;&lt;- y</span>\n",
       "<span style=white-space:pre-wrap>        inv &lt;&lt;- NULL</span>\n",
       "<span style=white-space:pre-wrap>    }</span>\n",
       "<span style=white-space:pre-wrap>    get &lt;- function() x</span>\n",
       "<span style=white-space:pre-wrap>    setinverse &lt;- function(inverse) inv &lt;&lt;- inverse</span>\n",
       "<span style=white-space:pre-wrap>    getinverse &lt;- function() inv</span>\n",
       "<span style=white-space:pre-wrap>    list(set = set, get = get, setinverse = setinverse, getinverse = getinverse)</span>\n",
       "}</code></pre>"
      ],
      "text/latex": [
       "\\begin{minted}{r}\n",
       "function (x = matrix()) \n",
       "\\{\n",
       "    inv <- NULL\n",
       "    set <- function(y) \\{\n",
       "        x <<- y\n",
       "        inv <<- NULL\n",
       "    \\}\n",
       "    get <- function() x\n",
       "    setinverse <- function(inverse) inv <<- inverse\n",
       "    getinverse <- function() inv\n",
       "    list(set = set, get = get, setinverse = setinverse, getinverse = getinverse)\n",
       "\\}\n",
       "\\end{minted}"
      ],
      "text/markdown": [
       "```r\n",
       "function (x = matrix()) \n",
       "{\n",
       "    inv <- NULL\n",
       "    set <- function(y) {\n",
       "        x <<- y\n",
       "        inv <<- NULL\n",
       "    }\n",
       "    get <- function() x\n",
       "    setinverse <- function(inverse) inv <<- inverse\n",
       "    getinverse <- function() inv\n",
       "    list(set = set, get = get, setinverse = setinverse, getinverse = getinverse)\n",
       "}\n",
       "```"
      ],
      "text/plain": [
       "function(x = matrix()) {\n",
       "        inv <- NULL\n",
       "        set <- function(y) {\n",
       "                x <<- y\n",
       "                inv <<- NULL\n",
       "        }\n",
       "        get <- function() x\n",
       "        setinverse <- function(inverse) inv <<- inverse\n",
       "        getinverse <- function() inv\n",
       "        list(set = set, get = get,\n",
       "             setinverse = setinverse,\n",
       "             getinverse = getinverse)\n",
       "}\n",
       "<environment: 0x0000000004b367e0>"
      ]
     },
     "metadata": {},
     "output_type": "display_data"
    },
    {
     "ename": "ERROR",
     "evalue": "Error in x$getinverse: object of type 'closure' is not subsettable\n",
     "output_type": "error",
     "traceback": [
      "Error in x$getinverse: object of type 'closure' is not subsettable\nTraceback:\n",
      "1. cacheSolve(XX)"
     ]
    }
   ],
   "source": [
    "X<-cbind(c(-3,5),c(1,0))\n",
    "X\n",
    "XX<-makeCacheMatrix(X)\n",
    "XX\n",
    "cacheSolve(XX)\n"
   ]
  }
 ],
 "metadata": {
  "kernelspec": {
   "display_name": "R",
   "language": "R",
   "name": "ir"
  },
  "language_info": {
   "codemirror_mode": "r",
   "file_extension": ".r",
   "mimetype": "text/x-r-source",
   "name": "R",
   "pygments_lexer": "r",
   "version": "3.6.3"
  }
 },
 "nbformat": 4,
 "nbformat_minor": 4
}
