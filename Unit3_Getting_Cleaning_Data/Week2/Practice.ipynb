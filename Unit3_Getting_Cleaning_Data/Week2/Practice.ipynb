{
 "cells": [
  {
   "cell_type": "code",
   "execution_count": 9,
   "metadata": {},
   "outputs": [
    {
     "data": {
      "text/html": [
       "<style>\n",
       ".list-inline {list-style: none; margin:0; padding: 0}\n",
       ".list-inline>li {display: inline-block}\n",
       ".list-inline>li:not(:last-child)::after {content: \"\\00b7\"; padding: 0 .5ex}\n",
       "</style>\n",
       "<ol class=list-inline><li>45</li><li>31</li><li>7</li><li>25</li></ol>\n"
      ],
      "text/latex": [
       "\\begin{enumerate*}\n",
       "\\item 45\n",
       "\\item 31\n",
       "\\item 7\n",
       "\\item 25\n",
       "\\end{enumerate*}\n"
      ],
      "text/markdown": [
       "1. 45\n",
       "2. 31\n",
       "3. 7\n",
       "4. 25\n",
       "\n",
       "\n"
      ],
      "text/plain": [
       "[1] 45 31  7 25"
      ]
     },
     "metadata": {},
     "output_type": "display_data"
    }
   ],
   "source": [
    "url=\"http://biostat.jhsph.edu/~jleek/contact.html\"\n",
    "con=url(url)\n",
    "nchar(readLines(con)[c(10,20,30,100)])"
   ]
  },
  {
   "cell_type": "code",
   "execution_count": 10,
   "metadata": {},
   "outputs": [],
   "source": [
    "download.file(\"https://d396qusza40orc.cloudfront.net/getdata%2Fwksst8110.for\",\"C:/Users/Kevin/Documents/Cursos/Coursera DS/Unit3_Getting_Cleaning_Data/Week2/test.for\")"
   ]
  },
  {
   "cell_type": "code",
   "execution_count": 20,
   "metadata": {},
   "outputs": [
    {
     "data": {
      "text/html": [
       "32426.7"
      ],
      "text/latex": [
       "32426.7"
      ],
      "text/markdown": [
       "32426.7"
      ],
      "text/plain": [
       "[1] 32426.7"
      ]
     },
     "metadata": {},
     "output_type": "display_data"
    }
   ],
   "source": [
    "tem<-read.fwf(\"test.for\",widths = c(12, 7, 4, 9, 4, 9, 4, 9, 4),skip = 4)\n",
    "sum(tem$V4)\n"
   ]
  }
 ],
 "metadata": {
  "kernelspec": {
   "display_name": "R",
   "language": "R",
   "name": "ir"
  },
  "language_info": {
   "codemirror_mode": "r",
   "file_extension": ".r",
   "mimetype": "text/x-r-source",
   "name": "R",
   "pygments_lexer": "r",
   "version": "3.6.3"
  }
 },
 "nbformat": 4,
 "nbformat_minor": 4
}
