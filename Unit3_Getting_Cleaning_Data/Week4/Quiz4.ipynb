{
 "cells": [
  {
   "cell_type": "code",
   "execution_count": 1,
   "metadata": {
    "scrolled": true
   },
   "outputs": [
    {
     "name": "stderr",
     "output_type": "stream",
     "text": [
      "Loading required package: xts\n",
      "\n",
      "Loading required package: zoo\n",
      "\n",
      "\n",
      "Attaching package: 'zoo'\n",
      "\n",
      "\n",
      "The following objects are masked from 'package:base':\n",
      "\n",
      "    as.Date, as.Date.numeric\n",
      "\n",
      "\n",
      "Loading required package: TTR\n",
      "\n",
      "Registered S3 method overwritten by 'quantmod':\n",
      "  method            from\n",
      "  as.zoo.data.frame zoo \n",
      "\n",
      "Version 0.4-0 included new data defaults. See ?getSymbols.\n",
      "\n",
      "'getSymbols' currently uses auto.assign=TRUE by default, but will\n",
      "use auto.assign=FALSE in 0.5-0. You will still be able to use\n",
      "'loadSymbols' to automatically load data. getOption(\"getSymbols.env\")\n",
      "and getOption(\"getSymbols.auto.assign\") will still be checked for\n",
      "alternate defaults.\n",
      "\n",
      "This message is shown once per session and may be disabled by setting \n",
      "options(\"getSymbols.warning4.0\"=FALSE). See ?getSymbols for details.\n",
      "\n",
      "\n"
     ]
    }
   ],
   "source": [
    "library(quantmod)\n",
    "amzn = getSymbols(\"AMZN\",auto.assign=FALSE)\n",
    "sampleTimes = index(amzn)"
   ]
  },
  {
   "cell_type": "code",
   "execution_count": 12,
   "metadata": {
    "scrolled": true
   },
   "outputs": [
    {
     "data": {
      "text/html": [
       "250"
      ],
      "text/latex": [
       "250"
      ],
      "text/markdown": [
       "250"
      ],
      "text/plain": [
       "[1] 250"
      ]
     },
     "metadata": {},
     "output_type": "display_data"
    }
   ],
   "source": [
    "length(grep(\"2012\",index(amzn)))"
   ]
  },
  {
   "cell_type": "code",
   "execution_count": 23,
   "metadata": {},
   "outputs": [
    {
     "data": {
      "text/html": [
       "47"
      ],
      "text/latex": [
       "47"
      ],
      "text/markdown": [
       "47"
      ],
      "text/plain": [
       "[1] 47"
      ]
     },
     "metadata": {},
     "output_type": "display_data"
    }
   ],
   "source": [
    "sum(weekdays(as.Date(grep(\"2012\",index(amzn),value = T)))==\"Monday\")"
   ]
  },
  {
   "cell_type": "code",
   "execution_count": 24,
   "metadata": {},
   "outputs": [],
   "source": [
    "download.file(\"https://d396qusza40orc.cloudfront.net/getdata%2Fdata%2FGDP.csv\",\"./test2.csv\",\"curl\")\n",
    "download.file(\"https://d396qusza40orc.cloudfront.net/getdata%2Fdata%2FEDSTATS_Country.csv\",\"./test3.csv\",\"curl\")"
   ]
  },
  {
   "cell_type": "code",
   "execution_count": 28,
   "metadata": {},
   "outputs": [],
   "source": [
    "tem2<-read.csv(\"test2.csv\",skip=4,nrows  = 190)\n",
    "tem3<-read.csv(\"test3.csv\",header = T)\n",
    "te<-merge(tem2,tem3,by.x=\"X\",by.y = \"CountryCode\")"
   ]
  },
  {
   "cell_type": "code",
   "execution_count": 26,
   "metadata": {
    "scrolled": true
   },
   "outputs": [
    {
     "data": {
      "text/html": [
       "<style>\n",
       ".list-inline {list-style: none; margin:0; padding: 0}\n",
       ".list-inline>li {display: inline-block}\n",
       ".list-inline>li:not(:last-child)::after {content: \"\\00b7\"; padding: 0 .5ex}\n",
       "</style>\n",
       "<ol class=list-inline><li>'X'</li><li>'X.1'</li><li>'X.2'</li><li>'X.3'</li><li>'X.4'</li><li>'X.5'</li><li>'X.6'</li><li>'X.7'</li><li>'X.8'</li><li>'X.9'</li><li>'Long.Name'</li><li>'Income.Group'</li><li>'Region'</li><li>'Lending.category'</li><li>'Other.groups'</li><li>'Currency.Unit'</li><li>'Latest.population.census'</li><li>'Latest.household.survey'</li><li>'Special.Notes'</li><li>'National.accounts.base.year'</li><li>'National.accounts.reference.year'</li><li>'System.of.National.Accounts'</li><li>'SNA.price.valuation'</li><li>'Alternative.conversion.factor'</li><li>'PPP.survey.year'</li><li>'Balance.of.Payments.Manual.in.use'</li><li>'External.debt.Reporting.status'</li><li>'System.of.trade'</li><li>'Government.Accounting.concept'</li><li>'IMF.data.dissemination.standard'</li><li>'Source.of.most.recent.Income.and.expenditure.data'</li><li>'Vital.registration.complete'</li><li>'Latest.agricultural.census'</li><li>'Latest.industrial.data'</li><li>'Latest.trade.data'</li><li>'Latest.water.withdrawal.data'</li><li>'X2.alpha.code'</li><li>'WB.2.code'</li><li>'Table.Name'</li><li>'Short.Name'</li></ol>\n"
      ],
      "text/latex": [
       "\\begin{enumerate*}\n",
       "\\item 'X'\n",
       "\\item 'X.1'\n",
       "\\item 'X.2'\n",
       "\\item 'X.3'\n",
       "\\item 'X.4'\n",
       "\\item 'X.5'\n",
       "\\item 'X.6'\n",
       "\\item 'X.7'\n",
       "\\item 'X.8'\n",
       "\\item 'X.9'\n",
       "\\item 'Long.Name'\n",
       "\\item 'Income.Group'\n",
       "\\item 'Region'\n",
       "\\item 'Lending.category'\n",
       "\\item 'Other.groups'\n",
       "\\item 'Currency.Unit'\n",
       "\\item 'Latest.population.census'\n",
       "\\item 'Latest.household.survey'\n",
       "\\item 'Special.Notes'\n",
       "\\item 'National.accounts.base.year'\n",
       "\\item 'National.accounts.reference.year'\n",
       "\\item 'System.of.National.Accounts'\n",
       "\\item 'SNA.price.valuation'\n",
       "\\item 'Alternative.conversion.factor'\n",
       "\\item 'PPP.survey.year'\n",
       "\\item 'Balance.of.Payments.Manual.in.use'\n",
       "\\item 'External.debt.Reporting.status'\n",
       "\\item 'System.of.trade'\n",
       "\\item 'Government.Accounting.concept'\n",
       "\\item 'IMF.data.dissemination.standard'\n",
       "\\item 'Source.of.most.recent.Income.and.expenditure.data'\n",
       "\\item 'Vital.registration.complete'\n",
       "\\item 'Latest.agricultural.census'\n",
       "\\item 'Latest.industrial.data'\n",
       "\\item 'Latest.trade.data'\n",
       "\\item 'Latest.water.withdrawal.data'\n",
       "\\item 'X2.alpha.code'\n",
       "\\item 'WB.2.code'\n",
       "\\item 'Table.Name'\n",
       "\\item 'Short.Name'\n",
       "\\end{enumerate*}\n"
      ],
      "text/markdown": [
       "1. 'X'\n",
       "2. 'X.1'\n",
       "3. 'X.2'\n",
       "4. 'X.3'\n",
       "5. 'X.4'\n",
       "6. 'X.5'\n",
       "7. 'X.6'\n",
       "8. 'X.7'\n",
       "9. 'X.8'\n",
       "10. 'X.9'\n",
       "11. 'Long.Name'\n",
       "12. 'Income.Group'\n",
       "13. 'Region'\n",
       "14. 'Lending.category'\n",
       "15. 'Other.groups'\n",
       "16. 'Currency.Unit'\n",
       "17. 'Latest.population.census'\n",
       "18. 'Latest.household.survey'\n",
       "19. 'Special.Notes'\n",
       "20. 'National.accounts.base.year'\n",
       "21. 'National.accounts.reference.year'\n",
       "22. 'System.of.National.Accounts'\n",
       "23. 'SNA.price.valuation'\n",
       "24. 'Alternative.conversion.factor'\n",
       "25. 'PPP.survey.year'\n",
       "26. 'Balance.of.Payments.Manual.in.use'\n",
       "27. 'External.debt.Reporting.status'\n",
       "28. 'System.of.trade'\n",
       "29. 'Government.Accounting.concept'\n",
       "30. 'IMF.data.dissemination.standard'\n",
       "31. 'Source.of.most.recent.Income.and.expenditure.data'\n",
       "32. 'Vital.registration.complete'\n",
       "33. 'Latest.agricultural.census'\n",
       "34. 'Latest.industrial.data'\n",
       "35. 'Latest.trade.data'\n",
       "36. 'Latest.water.withdrawal.data'\n",
       "37. 'X2.alpha.code'\n",
       "38. 'WB.2.code'\n",
       "39. 'Table.Name'\n",
       "40. 'Short.Name'\n",
       "\n",
       "\n"
      ],
      "text/plain": [
       " [1] \"X\"                                                \n",
       " [2] \"X.1\"                                              \n",
       " [3] \"X.2\"                                              \n",
       " [4] \"X.3\"                                              \n",
       " [5] \"X.4\"                                              \n",
       " [6] \"X.5\"                                              \n",
       " [7] \"X.6\"                                              \n",
       " [8] \"X.7\"                                              \n",
       " [9] \"X.8\"                                              \n",
       "[10] \"X.9\"                                              \n",
       "[11] \"Long.Name\"                                        \n",
       "[12] \"Income.Group\"                                     \n",
       "[13] \"Region\"                                           \n",
       "[14] \"Lending.category\"                                 \n",
       "[15] \"Other.groups\"                                     \n",
       "[16] \"Currency.Unit\"                                    \n",
       "[17] \"Latest.population.census\"                         \n",
       "[18] \"Latest.household.survey\"                          \n",
       "[19] \"Special.Notes\"                                    \n",
       "[20] \"National.accounts.base.year\"                      \n",
       "[21] \"National.accounts.reference.year\"                 \n",
       "[22] \"System.of.National.Accounts\"                      \n",
       "[23] \"SNA.price.valuation\"                              \n",
       "[24] \"Alternative.conversion.factor\"                    \n",
       "[25] \"PPP.survey.year\"                                  \n",
       "[26] \"Balance.of.Payments.Manual.in.use\"                \n",
       "[27] \"External.debt.Reporting.status\"                   \n",
       "[28] \"System.of.trade\"                                  \n",
       "[29] \"Government.Accounting.concept\"                    \n",
       "[30] \"IMF.data.dissemination.standard\"                  \n",
       "[31] \"Source.of.most.recent.Income.and.expenditure.data\"\n",
       "[32] \"Vital.registration.complete\"                      \n",
       "[33] \"Latest.agricultural.census\"                       \n",
       "[34] \"Latest.industrial.data\"                           \n",
       "[35] \"Latest.trade.data\"                                \n",
       "[36] \"Latest.water.withdrawal.data\"                     \n",
       "[37] \"X2.alpha.code\"                                    \n",
       "[38] \"WB.2.code\"                                        \n",
       "[39] \"Table.Name\"                                       \n",
       "[40] \"Short.Name\"                                       "
      ]
     },
     "metadata": {},
     "output_type": "display_data"
    }
   ],
   "source": [
    "names(te)"
   ]
  },
  {
   "cell_type": "code",
   "execution_count": 34,
   "metadata": {},
   "outputs": [
    {
     "data": {
      "text/html": [
       "13"
      ],
      "text/latex": [
       "13"
      ],
      "text/markdown": [
       "13"
      ],
      "text/plain": [
       "[1] 13"
      ]
     },
     "metadata": {},
     "output_type": "display_data"
    }
   ],
   "source": [
    "\n",
    "length(grep(\"June 30\",te$Special.Notes,value = T))\n"
   ]
  },
  {
   "cell_type": "code",
   "execution_count": 41,
   "metadata": {},
   "outputs": [
    {
     "data": {
      "text/html": [
       "377652.421052632"
      ],
      "text/latex": [
       "377652.421052632"
      ],
      "text/markdown": [
       "377652.421052632"
      ],
      "text/plain": [
       "[1] 377652.4"
      ]
     },
     "metadata": {},
     "output_type": "display_data"
    }
   ],
   "source": [
    "mean(as.numeric(gsub(\",\",\"\",tem2$X.4)))"
   ]
  },
  {
   "cell_type": "code",
   "execution_count": 42,
   "metadata": {
    "scrolled": true
   },
   "outputs": [
    {
     "data": {
      "text/html": [
       "<style>\n",
       ".list-inline {list-style: none; margin:0; padding: 0}\n",
       ".list-inline>li {display: inline-block}\n",
       ".list-inline>li:not(:last-child)::after {content: \"\\00b7\"; padding: 0 .5ex}\n",
       "</style>\n",
       "<ol class=list-inline><li>1</li><li>6</li><li>32</li></ol>\n"
      ],
      "text/latex": [
       "\\begin{enumerate*}\n",
       "\\item 1\n",
       "\\item 6\n",
       "\\item 32\n",
       "\\end{enumerate*}\n"
      ],
      "text/markdown": [
       "1. 1\n",
       "2. 6\n",
       "3. 32\n",
       "\n",
       "\n"
      ],
      "text/plain": [
       "[1]  1  6 32"
      ]
     },
     "metadata": {},
     "output_type": "display_data"
    }
   ],
   "source": [
    "grep(\"^United\",tem2$X.3)"
   ]
  },
  {
   "cell_type": "code",
   "execution_count": 44,
   "metadata": {},
   "outputs": [],
   "source": [
    "download.file(\"https://d396qusza40orc.cloudfront.net/getdata%2Fdata%2Fss06hid.csv\",\"./test.csv\",\"curl\")"
   ]
  },
  {
   "cell_type": "code",
   "execution_count": 53,
   "metadata": {},
   "outputs": [
    {
     "data": {
      "text/html": [
       "<ol>\n",
       "\t<li><style>\n",
       ".list-inline {list-style: none; margin:0; padding: 0}\n",
       ".list-inline>li {display: inline-block}\n",
       ".list-inline>li:not(:last-child)::after {content: \"\\00b7\"; padding: 0 .5ex}\n",
       "</style>\n",
       "<ol class=list-inline><li>''</li><li>'15'</li></ol>\n",
       "</li>\n",
       "</ol>\n"
      ],
      "text/latex": [
       "\\begin{enumerate}\n",
       "\\item \\begin{enumerate*}\n",
       "\\item ''\n",
       "\\item '15'\n",
       "\\end{enumerate*}\n",
       "\n",
       "\\end{enumerate}\n"
      ],
      "text/markdown": [
       "1. 1. ''\n",
       "2. '15'\n",
       "\n",
       "\n",
       "\n",
       "\n",
       "\n"
      ],
      "text/plain": [
       "[[1]]\n",
       "[1] \"\"   \"15\"\n"
      ]
     },
     "metadata": {},
     "output_type": "display_data"
    }
   ],
   "source": [
    "data<-read.csv(\"test.csv\")\n",
    "strsplit(names(data),\"wgtp\")[123]"
   ]
  }
 ],
 "metadata": {
  "kernelspec": {
   "display_name": "R",
   "language": "R",
   "name": "ir"
  },
  "language_info": {
   "codemirror_mode": "r",
   "file_extension": ".r",
   "mimetype": "text/x-r-source",
   "name": "R",
   "pygments_lexer": "r",
   "version": "3.6.3"
  }
 },
 "nbformat": 4,
 "nbformat_minor": 4
}
