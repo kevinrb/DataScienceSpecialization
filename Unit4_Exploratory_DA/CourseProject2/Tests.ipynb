{
 "cells": [
  {
   "cell_type": "code",
   "execution_count": 1,
   "metadata": {},
   "outputs": [],
   "source": [
    "NEI <- readRDS(\"summarySCC_PM25.rds\")\n",
    "SCC <- readRDS(\"Source_Classification_Code.rds\")"
   ]
  },
  {
   "cell_type": "code",
   "execution_count": 2,
   "metadata": {
    "scrolled": true
   },
   "outputs": [
    {
     "data": {
      "text/html": [
       "<table>\n",
       "<caption>A data.frame: 6497651 × 6</caption>\n",
       "<thead>\n",
       "\t<tr><th></th><th scope=col>fips</th><th scope=col>SCC</th><th scope=col>Pollutant</th><th scope=col>Emissions</th><th scope=col>type</th><th scope=col>year</th></tr>\n",
       "\t<tr><th></th><th scope=col>&lt;chr&gt;</th><th scope=col>&lt;chr&gt;</th><th scope=col>&lt;chr&gt;</th><th scope=col>&lt;dbl&gt;</th><th scope=col>&lt;chr&gt;</th><th scope=col>&lt;int&gt;</th></tr>\n",
       "</thead>\n",
       "<tbody>\n",
       "\t<tr><th scope=row>4</th><td>09001</td><td>10100401  </td><td>PM25-PRI</td><td> 15.714</td><td>POINT   </td><td>1999</td></tr>\n",
       "\t<tr><th scope=row>8</th><td>09001</td><td>10100404  </td><td>PM25-PRI</td><td>234.178</td><td>POINT   </td><td>1999</td></tr>\n",
       "\t<tr><th scope=row>12</th><td>09001</td><td>10100501  </td><td>PM25-PRI</td><td>  0.128</td><td>POINT   </td><td>1999</td></tr>\n",
       "\t<tr><th scope=row>16</th><td>09001</td><td>10200401  </td><td>PM25-PRI</td><td>  2.036</td><td>POINT   </td><td>1999</td></tr>\n",
       "\t<tr><th scope=row>20</th><td>09001</td><td>10200504  </td><td>PM25-PRI</td><td>  0.388</td><td>POINT   </td><td>1999</td></tr>\n",
       "\t<tr><th scope=row>24</th><td>09001</td><td>10200602  </td><td>PM25-PRI</td><td>  1.490</td><td>POINT   </td><td>1999</td></tr>\n",
       "\t<tr><th scope=row>28</th><td>09001</td><td>10200603  </td><td>PM25-PRI</td><td>  0.200</td><td>POINT   </td><td>1999</td></tr>\n",
       "\t<tr><th scope=row>32</th><td>09001</td><td>10300401  </td><td>PM25-PRI</td><td>  0.081</td><td>POINT   </td><td>1999</td></tr>\n",
       "\t<tr><th scope=row>36</th><td>09001</td><td>10300501  </td><td>PM25-PRI</td><td>  0.184</td><td>POINT   </td><td>1999</td></tr>\n",
       "\t<tr><th scope=row>40</th><td>09001</td><td>10300504  </td><td>PM25-PRI</td><td>  0.273</td><td>POINT   </td><td>1999</td></tr>\n",
       "\t<tr><th scope=row>44</th><td>09001</td><td>10300602  </td><td>PM25-PRI</td><td>  0.330</td><td>POINT   </td><td>1999</td></tr>\n",
       "\t<tr><th scope=row>48</th><td>09001</td><td>10300603  </td><td>PM25-PRI</td><td>  0.070</td><td>POINT   </td><td>1999</td></tr>\n",
       "\t<tr><th scope=row>52</th><td>09001</td><td>20100102  </td><td>PM25-PRI</td><td>  2.618</td><td>POINT   </td><td>1999</td></tr>\n",
       "\t<tr><th scope=row>56</th><td>09001</td><td>20100201  </td><td>PM25-PRI</td><td> 32.607</td><td>POINT   </td><td>1999</td></tr>\n",
       "\t<tr><th scope=row>60</th><td>09001</td><td>20100901  </td><td>PM25-PRI</td><td>  2.908</td><td>POINT   </td><td>1999</td></tr>\n",
       "\t<tr><th scope=row>64</th><td>09001</td><td>20200102  </td><td>PM25-PRI</td><td>  0.075</td><td>POINT   </td><td>1999</td></tr>\n",
       "\t<tr><th scope=row>68</th><td>09001</td><td>20200902  </td><td>PM25-PRI</td><td>  0.076</td><td>POINT   </td><td>1999</td></tr>\n",
       "\t<tr><th scope=row>72</th><td>09001</td><td>20300101  </td><td>PM25-PRI</td><td>  0.185</td><td>POINT   </td><td>1999</td></tr>\n",
       "\t<tr><th scope=row>76</th><td>09001</td><td>20300102  </td><td>PM25-PRI</td><td>  2.722</td><td>POINT   </td><td>1999</td></tr>\n",
       "\t<tr><th scope=row>80</th><td>09001</td><td>30203299  </td><td>PM25-PRI</td><td>  0.327</td><td>POINT   </td><td>1999</td></tr>\n",
       "\t<tr><th scope=row>83</th><td>09001</td><td>30502001  </td><td>PM25-PRI</td><td>  0.003</td><td>POINT   </td><td>1999</td></tr>\n",
       "\t<tr><th scope=row>95</th><td>09001</td><td>40200101  </td><td>PM25-PRI</td><td>  1.100</td><td>POINT   </td><td>1999</td></tr>\n",
       "\t<tr><th scope=row>98</th><td>09001</td><td>40200401  </td><td>PM25-PRI</td><td>  0.010</td><td>POINT   </td><td>1999</td></tr>\n",
       "\t<tr><th scope=row>119</th><td>09001</td><td>50100101  </td><td>PM25-PRI</td><td>128.392</td><td>POINT   </td><td>1999</td></tr>\n",
       "\t<tr><th scope=row>125</th><td>09001</td><td>2102004000</td><td>PM25-PRI</td><td>  3.634</td><td>NONPOINT</td><td>1999</td></tr>\n",
       "\t<tr><th scope=row>129</th><td>09001</td><td>2102006000</td><td>PM25-PRI</td><td> 28.460</td><td>NONPOINT</td><td>1999</td></tr>\n",
       "\t<tr><th scope=row>133</th><td>09001</td><td>2102007000</td><td>PM25-PRI</td><td>  9.695</td><td>NONPOINT</td><td>1999</td></tr>\n",
       "\t<tr><th scope=row>139</th><td>09001</td><td>2103004000</td><td>PM25-PRI</td><td> 53.112</td><td>NONPOINT</td><td>1999</td></tr>\n",
       "\t<tr><th scope=row>149</th><td>09001</td><td>2104001000</td><td>PM25-PRI</td><td>  1.134</td><td>NONPOINT</td><td>1999</td></tr>\n",
       "\t<tr><th scope=row>153</th><td>09001</td><td>2104004000</td><td>PM25-PRI</td><td>144.307</td><td>NONPOINT</td><td>1999</td></tr>\n",
       "\t<tr><th scope=row>...</th><td>...</td><td>...</td><td>...</td><td>...</td><td>...</td><td>...</td></tr>\n",
       "\t<tr><th scope=row>75050931</th><td>38013</td><td>2265005055</td><td>PM25-PRI</td><td>7.36602e-03</td><td>NON-ROAD</td><td>2008</td></tr>\n",
       "\t<tr><th scope=row>75050941</th><td>41037</td><td>2260001010</td><td>PM25-PRI</td><td>5.17094e-01</td><td>NON-ROAD</td><td>2008</td></tr>\n",
       "\t<tr><th scope=row>75050951</th><td>16015</td><td>2265002021</td><td>PM25-PRI</td><td>4.79603e-04</td><td>NON-ROAD</td><td>2008</td></tr>\n",
       "\t<tr><th scope=row>75050961</th><td>38061</td><td>2267002045</td><td>PM25-PRI</td><td>3.41227e-05</td><td>NON-ROAD</td><td>2008</td></tr>\n",
       "\t<tr><th scope=row>75050971</th><td>38041</td><td>2267002072</td><td>PM25-PRI</td><td>1.24125e-05</td><td>NON-ROAD</td><td>2008</td></tr>\n",
       "\t<tr><th scope=row>75050981</th><td>16021</td><td>2270002036</td><td>PM25-PRI</td><td>3.04799e-01</td><td>NON-ROAD</td><td>2008</td></tr>\n",
       "\t<tr><th scope=row>75050991</th><td>46081</td><td>2267006030</td><td>PM25-PRI</td><td>1.03464e-05</td><td>NON-ROAD</td><td>2008</td></tr>\n",
       "\t<tr><th scope=row>75051001</th><td>53063</td><td>2267002057</td><td>PM25-PRI</td><td>1.24217e-03</td><td>NON-ROAD</td><td>2008</td></tr>\n",
       "\t<tr><th scope=row>75051011</th><td>49011</td><td>2265003030</td><td>PM25-PRI</td><td>6.81483e-03</td><td>NON-ROAD</td><td>2008</td></tr>\n",
       "\t<tr><th scope=row>75051021</th><td>46023</td><td>2268003020</td><td>PM25-PRI</td><td>6.30337e-04</td><td>NON-ROAD</td><td>2008</td></tr>\n",
       "\t<tr><th scope=row>75051031</th><td>49025</td><td>2268003040</td><td>PM25-PRI</td><td>6.04085e-07</td><td>NON-ROAD</td><td>2008</td></tr>\n",
       "\t<tr><th scope=row>75051041</th><td>49039</td><td>2285004015</td><td>PM25-PRI</td><td>0.00000e+00</td><td>NON-ROAD</td><td>2008</td></tr>\n",
       "\t<tr><th scope=row>75051051</th><td>08067</td><td>2260006015</td><td>PM25-PRI</td><td>6.54286e-05</td><td>NON-ROAD</td><td>2008</td></tr>\n",
       "\t<tr><th scope=row>75051061</th><td>46003</td><td>2265002081</td><td>PM25-PRI</td><td>5.15055e-06</td><td>NON-ROAD</td><td>2008</td></tr>\n",
       "\t<tr><th scope=row>75051071</th><td>49021</td><td>2265002078</td><td>PM25-PRI</td><td>3.32487e-04</td><td>NON-ROAD</td><td>2008</td></tr>\n",
       "\t<tr><th scope=row>75051081</th><td>30063</td><td>2265006025</td><td>PM25-PRI</td><td>6.03735e-02</td><td>NON-ROAD</td><td>2008</td></tr>\n",
       "\t<tr><th scope=row>75051091</th><td>38015</td><td>2267002015</td><td>PM25-PRI</td><td>2.92011e-04</td><td>NON-ROAD</td><td>2008</td></tr>\n",
       "\t<tr><th scope=row>75051101</th><td>16065</td><td>2270005055</td><td>PM25-PRI</td><td>3.69758e-01</td><td>NON-ROAD</td><td>2008</td></tr>\n",
       "\t<tr><th scope=row>75051111</th><td>32510</td><td>2270005045</td><td>PM25-PRI</td><td>1.22626e-03</td><td>NON-ROAD</td><td>2008</td></tr>\n",
       "\t<tr><th scope=row>75051121</th><td>38005</td><td>2265002081</td><td>PM25-PRI</td><td>1.68654e-05</td><td>NON-ROAD</td><td>2008</td></tr>\n",
       "\t<tr><th scope=row>75051131</th><td>53007</td><td>2270004066</td><td>PM25-PRI</td><td>9.69598e-02</td><td>NON-ROAD</td><td>2008</td></tr>\n",
       "\t<tr><th scope=row>75051141</th><td>30103</td><td>2265005010</td><td>PM25-PRI</td><td>1.21296e-04</td><td>NON-ROAD</td><td>2008</td></tr>\n",
       "\t<tr><th scope=row>75051151</th><td>56015</td><td>2270005025</td><td>PM25-PRI</td><td>1.01489e-02</td><td>NON-ROAD</td><td>2008</td></tr>\n",
       "\t<tr><th scope=row>75051161</th><td>32510</td><td>2265002054</td><td>PM25-PRI</td><td>7.48028e-04</td><td>NON-ROAD</td><td>2008</td></tr>\n",
       "\t<tr><th scope=row>75051171</th><td>56011</td><td>2282020005</td><td>PM25-PRI</td><td>2.85983e-02</td><td>NON-ROAD</td><td>2008</td></tr>\n",
       "\t<tr><th scope=row>75051181</th><td>53009</td><td>2265003020</td><td>PM25-PRI</td><td>3.15241e-03</td><td>NON-ROAD</td><td>2008</td></tr>\n",
       "\t<tr><th scope=row>75051191</th><td>41057</td><td>2260002006</td><td>PM25-PRI</td><td>4.68695e-02</td><td>NON-ROAD</td><td>2008</td></tr>\n",
       "\t<tr><th scope=row>75051201</th><td>38015</td><td>2270006005</td><td>PM25-PRI</td><td>1.01289e+00</td><td>NON-ROAD</td><td>2008</td></tr>\n",
       "\t<tr><th scope=row>75051211</th><td>46105</td><td>2265004075</td><td>PM25-PRI</td><td>4.86488e-04</td><td>NON-ROAD</td><td>2008</td></tr>\n",
       "\t<tr><th scope=row>75051221</th><td>53005</td><td>2270004076</td><td>PM25-PRI</td><td>1.62267e-03</td><td>NON-ROAD</td><td>2008</td></tr>\n",
       "</tbody>\n",
       "</table>\n"
      ],
      "text/latex": [
       "A data.frame: 6497651 × 6\n",
       "\\begin{tabular}{r|llllll}\n",
       "  & fips & SCC & Pollutant & Emissions & type & year\\\\\n",
       "  & <chr> & <chr> & <chr> & <dbl> & <chr> & <int>\\\\\n",
       "\\hline\n",
       "\t4 & 09001 & 10100401   & PM25-PRI &  15.714 & POINT    & 1999\\\\\n",
       "\t8 & 09001 & 10100404   & PM25-PRI & 234.178 & POINT    & 1999\\\\\n",
       "\t12 & 09001 & 10100501   & PM25-PRI &   0.128 & POINT    & 1999\\\\\n",
       "\t16 & 09001 & 10200401   & PM25-PRI &   2.036 & POINT    & 1999\\\\\n",
       "\t20 & 09001 & 10200504   & PM25-PRI &   0.388 & POINT    & 1999\\\\\n",
       "\t24 & 09001 & 10200602   & PM25-PRI &   1.490 & POINT    & 1999\\\\\n",
       "\t28 & 09001 & 10200603   & PM25-PRI &   0.200 & POINT    & 1999\\\\\n",
       "\t32 & 09001 & 10300401   & PM25-PRI &   0.081 & POINT    & 1999\\\\\n",
       "\t36 & 09001 & 10300501   & PM25-PRI &   0.184 & POINT    & 1999\\\\\n",
       "\t40 & 09001 & 10300504   & PM25-PRI &   0.273 & POINT    & 1999\\\\\n",
       "\t44 & 09001 & 10300602   & PM25-PRI &   0.330 & POINT    & 1999\\\\\n",
       "\t48 & 09001 & 10300603   & PM25-PRI &   0.070 & POINT    & 1999\\\\\n",
       "\t52 & 09001 & 20100102   & PM25-PRI &   2.618 & POINT    & 1999\\\\\n",
       "\t56 & 09001 & 20100201   & PM25-PRI &  32.607 & POINT    & 1999\\\\\n",
       "\t60 & 09001 & 20100901   & PM25-PRI &   2.908 & POINT    & 1999\\\\\n",
       "\t64 & 09001 & 20200102   & PM25-PRI &   0.075 & POINT    & 1999\\\\\n",
       "\t68 & 09001 & 20200902   & PM25-PRI &   0.076 & POINT    & 1999\\\\\n",
       "\t72 & 09001 & 20300101   & PM25-PRI &   0.185 & POINT    & 1999\\\\\n",
       "\t76 & 09001 & 20300102   & PM25-PRI &   2.722 & POINT    & 1999\\\\\n",
       "\t80 & 09001 & 30203299   & PM25-PRI &   0.327 & POINT    & 1999\\\\\n",
       "\t83 & 09001 & 30502001   & PM25-PRI &   0.003 & POINT    & 1999\\\\\n",
       "\t95 & 09001 & 40200101   & PM25-PRI &   1.100 & POINT    & 1999\\\\\n",
       "\t98 & 09001 & 40200401   & PM25-PRI &   0.010 & POINT    & 1999\\\\\n",
       "\t119 & 09001 & 50100101   & PM25-PRI & 128.392 & POINT    & 1999\\\\\n",
       "\t125 & 09001 & 2102004000 & PM25-PRI &   3.634 & NONPOINT & 1999\\\\\n",
       "\t129 & 09001 & 2102006000 & PM25-PRI &  28.460 & NONPOINT & 1999\\\\\n",
       "\t133 & 09001 & 2102007000 & PM25-PRI &   9.695 & NONPOINT & 1999\\\\\n",
       "\t139 & 09001 & 2103004000 & PM25-PRI &  53.112 & NONPOINT & 1999\\\\\n",
       "\t149 & 09001 & 2104001000 & PM25-PRI &   1.134 & NONPOINT & 1999\\\\\n",
       "\t153 & 09001 & 2104004000 & PM25-PRI & 144.307 & NONPOINT & 1999\\\\\n",
       "\t... & ... & ... & ... & ... & ... & ...\\\\\n",
       "\t75050931 & 38013 & 2265005055 & PM25-PRI & 7.36602e-03 & NON-ROAD & 2008\\\\\n",
       "\t75050941 & 41037 & 2260001010 & PM25-PRI & 5.17094e-01 & NON-ROAD & 2008\\\\\n",
       "\t75050951 & 16015 & 2265002021 & PM25-PRI & 4.79603e-04 & NON-ROAD & 2008\\\\\n",
       "\t75050961 & 38061 & 2267002045 & PM25-PRI & 3.41227e-05 & NON-ROAD & 2008\\\\\n",
       "\t75050971 & 38041 & 2267002072 & PM25-PRI & 1.24125e-05 & NON-ROAD & 2008\\\\\n",
       "\t75050981 & 16021 & 2270002036 & PM25-PRI & 3.04799e-01 & NON-ROAD & 2008\\\\\n",
       "\t75050991 & 46081 & 2267006030 & PM25-PRI & 1.03464e-05 & NON-ROAD & 2008\\\\\n",
       "\t75051001 & 53063 & 2267002057 & PM25-PRI & 1.24217e-03 & NON-ROAD & 2008\\\\\n",
       "\t75051011 & 49011 & 2265003030 & PM25-PRI & 6.81483e-03 & NON-ROAD & 2008\\\\\n",
       "\t75051021 & 46023 & 2268003020 & PM25-PRI & 6.30337e-04 & NON-ROAD & 2008\\\\\n",
       "\t75051031 & 49025 & 2268003040 & PM25-PRI & 6.04085e-07 & NON-ROAD & 2008\\\\\n",
       "\t75051041 & 49039 & 2285004015 & PM25-PRI & 0.00000e+00 & NON-ROAD & 2008\\\\\n",
       "\t75051051 & 08067 & 2260006015 & PM25-PRI & 6.54286e-05 & NON-ROAD & 2008\\\\\n",
       "\t75051061 & 46003 & 2265002081 & PM25-PRI & 5.15055e-06 & NON-ROAD & 2008\\\\\n",
       "\t75051071 & 49021 & 2265002078 & PM25-PRI & 3.32487e-04 & NON-ROAD & 2008\\\\\n",
       "\t75051081 & 30063 & 2265006025 & PM25-PRI & 6.03735e-02 & NON-ROAD & 2008\\\\\n",
       "\t75051091 & 38015 & 2267002015 & PM25-PRI & 2.92011e-04 & NON-ROAD & 2008\\\\\n",
       "\t75051101 & 16065 & 2270005055 & PM25-PRI & 3.69758e-01 & NON-ROAD & 2008\\\\\n",
       "\t75051111 & 32510 & 2270005045 & PM25-PRI & 1.22626e-03 & NON-ROAD & 2008\\\\\n",
       "\t75051121 & 38005 & 2265002081 & PM25-PRI & 1.68654e-05 & NON-ROAD & 2008\\\\\n",
       "\t75051131 & 53007 & 2270004066 & PM25-PRI & 9.69598e-02 & NON-ROAD & 2008\\\\\n",
       "\t75051141 & 30103 & 2265005010 & PM25-PRI & 1.21296e-04 & NON-ROAD & 2008\\\\\n",
       "\t75051151 & 56015 & 2270005025 & PM25-PRI & 1.01489e-02 & NON-ROAD & 2008\\\\\n",
       "\t75051161 & 32510 & 2265002054 & PM25-PRI & 7.48028e-04 & NON-ROAD & 2008\\\\\n",
       "\t75051171 & 56011 & 2282020005 & PM25-PRI & 2.85983e-02 & NON-ROAD & 2008\\\\\n",
       "\t75051181 & 53009 & 2265003020 & PM25-PRI & 3.15241e-03 & NON-ROAD & 2008\\\\\n",
       "\t75051191 & 41057 & 2260002006 & PM25-PRI & 4.68695e-02 & NON-ROAD & 2008\\\\\n",
       "\t75051201 & 38015 & 2270006005 & PM25-PRI & 1.01289e+00 & NON-ROAD & 2008\\\\\n",
       "\t75051211 & 46105 & 2265004075 & PM25-PRI & 4.86488e-04 & NON-ROAD & 2008\\\\\n",
       "\t75051221 & 53005 & 2270004076 & PM25-PRI & 1.62267e-03 & NON-ROAD & 2008\\\\\n",
       "\\end{tabular}\n"
      ],
      "text/markdown": [
       "\n",
       "A data.frame: 6497651 × 6\n",
       "\n",
       "| <!--/--> | fips &lt;chr&gt; | SCC &lt;chr&gt; | Pollutant &lt;chr&gt; | Emissions &lt;dbl&gt; | type &lt;chr&gt; | year &lt;int&gt; |\n",
       "|---|---|---|---|---|---|---|\n",
       "| 4 | 09001 | 10100401   | PM25-PRI |  15.714 | POINT    | 1999 |\n",
       "| 8 | 09001 | 10100404   | PM25-PRI | 234.178 | POINT    | 1999 |\n",
       "| 12 | 09001 | 10100501   | PM25-PRI |   0.128 | POINT    | 1999 |\n",
       "| 16 | 09001 | 10200401   | PM25-PRI |   2.036 | POINT    | 1999 |\n",
       "| 20 | 09001 | 10200504   | PM25-PRI |   0.388 | POINT    | 1999 |\n",
       "| 24 | 09001 | 10200602   | PM25-PRI |   1.490 | POINT    | 1999 |\n",
       "| 28 | 09001 | 10200603   | PM25-PRI |   0.200 | POINT    | 1999 |\n",
       "| 32 | 09001 | 10300401   | PM25-PRI |   0.081 | POINT    | 1999 |\n",
       "| 36 | 09001 | 10300501   | PM25-PRI |   0.184 | POINT    | 1999 |\n",
       "| 40 | 09001 | 10300504   | PM25-PRI |   0.273 | POINT    | 1999 |\n",
       "| 44 | 09001 | 10300602   | PM25-PRI |   0.330 | POINT    | 1999 |\n",
       "| 48 | 09001 | 10300603   | PM25-PRI |   0.070 | POINT    | 1999 |\n",
       "| 52 | 09001 | 20100102   | PM25-PRI |   2.618 | POINT    | 1999 |\n",
       "| 56 | 09001 | 20100201   | PM25-PRI |  32.607 | POINT    | 1999 |\n",
       "| 60 | 09001 | 20100901   | PM25-PRI |   2.908 | POINT    | 1999 |\n",
       "| 64 | 09001 | 20200102   | PM25-PRI |   0.075 | POINT    | 1999 |\n",
       "| 68 | 09001 | 20200902   | PM25-PRI |   0.076 | POINT    | 1999 |\n",
       "| 72 | 09001 | 20300101   | PM25-PRI |   0.185 | POINT    | 1999 |\n",
       "| 76 | 09001 | 20300102   | PM25-PRI |   2.722 | POINT    | 1999 |\n",
       "| 80 | 09001 | 30203299   | PM25-PRI |   0.327 | POINT    | 1999 |\n",
       "| 83 | 09001 | 30502001   | PM25-PRI |   0.003 | POINT    | 1999 |\n",
       "| 95 | 09001 | 40200101   | PM25-PRI |   1.100 | POINT    | 1999 |\n",
       "| 98 | 09001 | 40200401   | PM25-PRI |   0.010 | POINT    | 1999 |\n",
       "| 119 | 09001 | 50100101   | PM25-PRI | 128.392 | POINT    | 1999 |\n",
       "| 125 | 09001 | 2102004000 | PM25-PRI |   3.634 | NONPOINT | 1999 |\n",
       "| 129 | 09001 | 2102006000 | PM25-PRI |  28.460 | NONPOINT | 1999 |\n",
       "| 133 | 09001 | 2102007000 | PM25-PRI |   9.695 | NONPOINT | 1999 |\n",
       "| 139 | 09001 | 2103004000 | PM25-PRI |  53.112 | NONPOINT | 1999 |\n",
       "| 149 | 09001 | 2104001000 | PM25-PRI |   1.134 | NONPOINT | 1999 |\n",
       "| 153 | 09001 | 2104004000 | PM25-PRI | 144.307 | NONPOINT | 1999 |\n",
       "| ... | ... | ... | ... | ... | ... | ... |\n",
       "| 75050931 | 38013 | 2265005055 | PM25-PRI | 7.36602e-03 | NON-ROAD | 2008 |\n",
       "| 75050941 | 41037 | 2260001010 | PM25-PRI | 5.17094e-01 | NON-ROAD | 2008 |\n",
       "| 75050951 | 16015 | 2265002021 | PM25-PRI | 4.79603e-04 | NON-ROAD | 2008 |\n",
       "| 75050961 | 38061 | 2267002045 | PM25-PRI | 3.41227e-05 | NON-ROAD | 2008 |\n",
       "| 75050971 | 38041 | 2267002072 | PM25-PRI | 1.24125e-05 | NON-ROAD | 2008 |\n",
       "| 75050981 | 16021 | 2270002036 | PM25-PRI | 3.04799e-01 | NON-ROAD | 2008 |\n",
       "| 75050991 | 46081 | 2267006030 | PM25-PRI | 1.03464e-05 | NON-ROAD | 2008 |\n",
       "| 75051001 | 53063 | 2267002057 | PM25-PRI | 1.24217e-03 | NON-ROAD | 2008 |\n",
       "| 75051011 | 49011 | 2265003030 | PM25-PRI | 6.81483e-03 | NON-ROAD | 2008 |\n",
       "| 75051021 | 46023 | 2268003020 | PM25-PRI | 6.30337e-04 | NON-ROAD | 2008 |\n",
       "| 75051031 | 49025 | 2268003040 | PM25-PRI | 6.04085e-07 | NON-ROAD | 2008 |\n",
       "| 75051041 | 49039 | 2285004015 | PM25-PRI | 0.00000e+00 | NON-ROAD | 2008 |\n",
       "| 75051051 | 08067 | 2260006015 | PM25-PRI | 6.54286e-05 | NON-ROAD | 2008 |\n",
       "| 75051061 | 46003 | 2265002081 | PM25-PRI | 5.15055e-06 | NON-ROAD | 2008 |\n",
       "| 75051071 | 49021 | 2265002078 | PM25-PRI | 3.32487e-04 | NON-ROAD | 2008 |\n",
       "| 75051081 | 30063 | 2265006025 | PM25-PRI | 6.03735e-02 | NON-ROAD | 2008 |\n",
       "| 75051091 | 38015 | 2267002015 | PM25-PRI | 2.92011e-04 | NON-ROAD | 2008 |\n",
       "| 75051101 | 16065 | 2270005055 | PM25-PRI | 3.69758e-01 | NON-ROAD | 2008 |\n",
       "| 75051111 | 32510 | 2270005045 | PM25-PRI | 1.22626e-03 | NON-ROAD | 2008 |\n",
       "| 75051121 | 38005 | 2265002081 | PM25-PRI | 1.68654e-05 | NON-ROAD | 2008 |\n",
       "| 75051131 | 53007 | 2270004066 | PM25-PRI | 9.69598e-02 | NON-ROAD | 2008 |\n",
       "| 75051141 | 30103 | 2265005010 | PM25-PRI | 1.21296e-04 | NON-ROAD | 2008 |\n",
       "| 75051151 | 56015 | 2270005025 | PM25-PRI | 1.01489e-02 | NON-ROAD | 2008 |\n",
       "| 75051161 | 32510 | 2265002054 | PM25-PRI | 7.48028e-04 | NON-ROAD | 2008 |\n",
       "| 75051171 | 56011 | 2282020005 | PM25-PRI | 2.85983e-02 | NON-ROAD | 2008 |\n",
       "| 75051181 | 53009 | 2265003020 | PM25-PRI | 3.15241e-03 | NON-ROAD | 2008 |\n",
       "| 75051191 | 41057 | 2260002006 | PM25-PRI | 4.68695e-02 | NON-ROAD | 2008 |\n",
       "| 75051201 | 38015 | 2270006005 | PM25-PRI | 1.01289e+00 | NON-ROAD | 2008 |\n",
       "| 75051211 | 46105 | 2265004075 | PM25-PRI | 4.86488e-04 | NON-ROAD | 2008 |\n",
       "| 75051221 | 53005 | 2270004076 | PM25-PRI | 1.62267e-03 | NON-ROAD | 2008 |\n",
       "\n"
      ],
      "text/plain": [
       "         fips  SCC        Pollutant Emissions   type     year\n",
       "4        09001 10100401   PM25-PRI   15.714     POINT    1999\n",
       "8        09001 10100404   PM25-PRI  234.178     POINT    1999\n",
       "12       09001 10100501   PM25-PRI    0.128     POINT    1999\n",
       "16       09001 10200401   PM25-PRI    2.036     POINT    1999\n",
       "20       09001 10200504   PM25-PRI    0.388     POINT    1999\n",
       "24       09001 10200602   PM25-PRI    1.490     POINT    1999\n",
       "28       09001 10200603   PM25-PRI    0.200     POINT    1999\n",
       "32       09001 10300401   PM25-PRI    0.081     POINT    1999\n",
       "36       09001 10300501   PM25-PRI    0.184     POINT    1999\n",
       "40       09001 10300504   PM25-PRI    0.273     POINT    1999\n",
       "44       09001 10300602   PM25-PRI    0.330     POINT    1999\n",
       "48       09001 10300603   PM25-PRI    0.070     POINT    1999\n",
       "52       09001 20100102   PM25-PRI    2.618     POINT    1999\n",
       "56       09001 20100201   PM25-PRI   32.607     POINT    1999\n",
       "60       09001 20100901   PM25-PRI    2.908     POINT    1999\n",
       "64       09001 20200102   PM25-PRI    0.075     POINT    1999\n",
       "68       09001 20200902   PM25-PRI    0.076     POINT    1999\n",
       "72       09001 20300101   PM25-PRI    0.185     POINT    1999\n",
       "76       09001 20300102   PM25-PRI    2.722     POINT    1999\n",
       "80       09001 30203299   PM25-PRI    0.327     POINT    1999\n",
       "83       09001 30502001   PM25-PRI    0.003     POINT    1999\n",
       "95       09001 40200101   PM25-PRI    1.100     POINT    1999\n",
       "98       09001 40200401   PM25-PRI    0.010     POINT    1999\n",
       "119      09001 50100101   PM25-PRI  128.392     POINT    1999\n",
       "125      09001 2102004000 PM25-PRI    3.634     NONPOINT 1999\n",
       "129      09001 2102006000 PM25-PRI   28.460     NONPOINT 1999\n",
       "133      09001 2102007000 PM25-PRI    9.695     NONPOINT 1999\n",
       "139      09001 2103004000 PM25-PRI   53.112     NONPOINT 1999\n",
       "149      09001 2104001000 PM25-PRI    1.134     NONPOINT 1999\n",
       "153      09001 2104004000 PM25-PRI  144.307     NONPOINT 1999\n",
       "...      ...   ...        ...       ...         ...      ... \n",
       "75050931 38013 2265005055 PM25-PRI  7.36602e-03 NON-ROAD 2008\n",
       "75050941 41037 2260001010 PM25-PRI  5.17094e-01 NON-ROAD 2008\n",
       "75050951 16015 2265002021 PM25-PRI  4.79603e-04 NON-ROAD 2008\n",
       "75050961 38061 2267002045 PM25-PRI  3.41227e-05 NON-ROAD 2008\n",
       "75050971 38041 2267002072 PM25-PRI  1.24125e-05 NON-ROAD 2008\n",
       "75050981 16021 2270002036 PM25-PRI  3.04799e-01 NON-ROAD 2008\n",
       "75050991 46081 2267006030 PM25-PRI  1.03464e-05 NON-ROAD 2008\n",
       "75051001 53063 2267002057 PM25-PRI  1.24217e-03 NON-ROAD 2008\n",
       "75051011 49011 2265003030 PM25-PRI  6.81483e-03 NON-ROAD 2008\n",
       "75051021 46023 2268003020 PM25-PRI  6.30337e-04 NON-ROAD 2008\n",
       "75051031 49025 2268003040 PM25-PRI  6.04085e-07 NON-ROAD 2008\n",
       "75051041 49039 2285004015 PM25-PRI  0.00000e+00 NON-ROAD 2008\n",
       "75051051 08067 2260006015 PM25-PRI  6.54286e-05 NON-ROAD 2008\n",
       "75051061 46003 2265002081 PM25-PRI  5.15055e-06 NON-ROAD 2008\n",
       "75051071 49021 2265002078 PM25-PRI  3.32487e-04 NON-ROAD 2008\n",
       "75051081 30063 2265006025 PM25-PRI  6.03735e-02 NON-ROAD 2008\n",
       "75051091 38015 2267002015 PM25-PRI  2.92011e-04 NON-ROAD 2008\n",
       "75051101 16065 2270005055 PM25-PRI  3.69758e-01 NON-ROAD 2008\n",
       "75051111 32510 2270005045 PM25-PRI  1.22626e-03 NON-ROAD 2008\n",
       "75051121 38005 2265002081 PM25-PRI  1.68654e-05 NON-ROAD 2008\n",
       "75051131 53007 2270004066 PM25-PRI  9.69598e-02 NON-ROAD 2008\n",
       "75051141 30103 2265005010 PM25-PRI  1.21296e-04 NON-ROAD 2008\n",
       "75051151 56015 2270005025 PM25-PRI  1.01489e-02 NON-ROAD 2008\n",
       "75051161 32510 2265002054 PM25-PRI  7.48028e-04 NON-ROAD 2008\n",
       "75051171 56011 2282020005 PM25-PRI  2.85983e-02 NON-ROAD 2008\n",
       "75051181 53009 2265003020 PM25-PRI  3.15241e-03 NON-ROAD 2008\n",
       "75051191 41057 2260002006 PM25-PRI  4.68695e-02 NON-ROAD 2008\n",
       "75051201 38015 2270006005 PM25-PRI  1.01289e+00 NON-ROAD 2008\n",
       "75051211 46105 2265004075 PM25-PRI  4.86488e-04 NON-ROAD 2008\n",
       "75051221 53005 2270004076 PM25-PRI  1.62267e-03 NON-ROAD 2008"
      ]
     },
     "metadata": {},
     "output_type": "display_data"
    }
   ],
   "source": [
    "NEI"
   ]
  },
  {
   "cell_type": "code",
   "execution_count": 3,
   "metadata": {
    "scrolled": false
   },
   "outputs": [
    {
     "name": "stderr",
     "output_type": "stream",
     "text": [
      "\n",
      "Attaching package: 'dplyr'\n",
      "\n",
      "\n",
      "The following objects are masked from 'package:stats':\n",
      "\n",
      "    filter, lag\n",
      "\n",
      "\n",
      "The following objects are masked from 'package:base':\n",
      "\n",
      "    intersect, setdiff, setequal, union\n",
      "\n",
      "\n",
      "`summarise()` ungrouping output (override with `.groups` argument)\n",
      "\n"
     ]
    },
    {
     "data": {
      "image/png": "[encoded data removed]",
      "text/plain": [
       "Plot with title \"Total PM2.5 emission by Year\""
      ]
     },
     "metadata": {
      "image/png": {
       "height": 420,
       "width": 420
      },
      "text/plain": {
       "height": 420,
       "width": 420
      }
     },
     "output_type": "display_data"
    }
   ],
   "source": [
    "library(dplyr)\n",
    "total_emi<-NEI  %>% group_by(year) %>% summarise(total=sum(Emissions)) \n",
    "with(total_emi,plot(year,total,type=\"l\",col='blue',xlab=\"Years\",\n",
    "                    ylab=\"Total PM2.5 emissions\",main=\"Total PM2.5 emission by Year\"))"
   ]
  },
  {
   "cell_type": "code",
   "execution_count": 4,
   "metadata": {
    "scrolled": true
   },
   "outputs": [
    {
     "name": "stderr",
     "output_type": "stream",
     "text": [
      "`summarise()` ungrouping output (override with `.groups` argument)\n",
      "\n"
     ]
    },
    {
     "data": {
      "image/png": "[encoded data removed]",
      "text/plain": [
       "Plot with title \"Total PM2.5 emission by Year in Baltimore City\""
      ]
     },
     "metadata": {
      "image/png": {
       "height": 420,
       "width": 420
      },
      "text/plain": {
       "height": 420,
       "width": 420
      }
     },
     "output_type": "display_data"
    }
   ],
   "source": [
    "library(dplyr)\n",
    "total_emi_balti<-NEI %>% filter(fips == \"24510\") %>% group_by(year) %>% summarise(total=sum(Emissions)) \n",
    "with(total_emi_balti,plot(year,total,type=\"l\",col='blue',xlab=\"Years\",\n",
    "                    ylab=\"Total PM2.5 emissions\",main=\"Total PM2.5 emission by Year in Baltimore City\"))"
   ]
  },
  {
   "cell_type": "code",
   "execution_count": 5,
   "metadata": {
    "scrolled": true
   },
   "outputs": [
    {
     "name": "stderr",
     "output_type": "stream",
     "text": [
      "`summarise()` regrouping output by 'type' (override with `.groups` argument)\n",
      "\n"
     ]
    },
    {
     "data": {
      "image/png": "[encoded data removed]",
      "text/plain": [
       "plot without title"
      ]
     },
     "metadata": {
      "image/png": {
       "height": 420,
       "width": 420
      },
      "text/plain": {
       "height": 420,
       "width": 420
      }
     },
     "output_type": "display_data"
    }
   ],
   "source": [
    "library(dplyr)\n",
    "library(ggplot2)\n",
    "total_emi_balti_type<-NEI %>% filter(fips == \"24510\") %>% group_by(type,year) %>% summarise(total=sum(Emissions)) \n",
    "qplot(year,total,data=total_emi_balti_type,facets=.~type,geom=\"line\",xlab=\"Years\",\n",
    "                    ylab=\"Total PM2.5 emissions\",main=\"Total PM2.5 emission by Year and Type in Baltimore City\")\n"
   ]
  },
  {
   "cell_type": "code",
   "execution_count": 6,
   "metadata": {
    "scrolled": true
   },
   "outputs": [
    {
     "name": "stderr",
     "output_type": "stream",
     "text": [
      "`summarise()` ungrouping output (override with `.groups` argument)\n",
      "\n"
     ]
    },
    {
     "data": {
      "image/png": "[encoded data removed]",
      "text/plain": [
       "Plot with title \"Total PM2.5 emission from coal combustion-related sources by Year\""
      ]
     },
     "metadata": {
      "image/png": {
       "height": 420,
       "width": 420
      },
      "text/plain": {
       "height": 420,
       "width": 420
      }
     },
     "output_type": "display_data"
    }
   ],
   "source": [
    "library(dplyr)\n",
    "total_coal<-SCC %>%filter(grepl(\"Comb\",EI.Sector)) %>%filter(grepl(\"Coal\",EI.Sector)) %>%\n",
    "merge(NEI,by=\"SCC\") %>% group_by(year) %>% summarise(total=sum(Emissions)) \n",
    "with(total_coal,plot(year,total,type=\"l\",col='blue',xlab=\"Years\",\n",
    "                    ylab=\"Total PM2.5 emissions\",main=\"Total PM2.5 emission from coal combustion-related sources by Year\"))"
   ]
  },
  {
   "cell_type": "code",
   "execution_count": 7,
   "metadata": {},
   "outputs": [
    {
     "name": "stderr",
     "output_type": "stream",
     "text": [
      "`summarise()` ungrouping output (override with `.groups` argument)\n",
      "\n"
     ]
    },
    {
     "data": {
      "image/png": "[encoded data removed]",
      "text/plain": [
       "Plot with title \"Total PM2.5 emission from motor vehicle sources by Year\""
      ]
     },
     "metadata": {
      "image/png": {
       "height": 420,
       "width": 420
      },
      "text/plain": {
       "height": 420,
       "width": 420
      }
     },
     "output_type": "display_data"
    }
   ],
   "source": [
    "library(dplyr)\n",
    "motor_balti_total<-SCC %>% filter(SCC.Level.One==\"Mobile Sources\") %>% filter(grepl(\"Vehicle\",SCC.Level.Two) ) %>%\n",
    "merge(NEI,by=\"SCC\") %>% filter(fips == \"24510\") %>% group_by(year) %>% summarise(total=sum(Emissions))\n",
    "with(motor_balti_total,plot(year,total,type=\"l\",col='blue',xlab=\"Years\",\n",
    "                    ylab=\"Total PM2.5 emissions\",main=\"Total PM2.5 emission from motor vehicle sources by Year\"))"
   ]
  },
  {
   "cell_type": "code",
   "execution_count": 8,
   "metadata": {
    "scrolled": true
   },
   "outputs": [
    {
     "name": "stderr",
     "output_type": "stream",
     "text": [
      "`summarise()` ungrouping output (override with `.groups` argument)\n",
      "\n",
      "`summarise()` ungrouping output (override with `.groups` argument)\n",
      "\n"
     ]
    },
    {
     "data": {
      "image/png": "[encoded data removed]",
      "text/plain": [
       "Plot with title \"Total PM2.5 emission by Year in \""
      ]
     },
     "metadata": {
      "image/png": {
       "height": 420,
       "width": 420
      },
      "text/plain": {
       "height": 420,
       "width": 420
      }
     },
     "output_type": "display_data"
    }
   ],
   "source": [
    "library(dplyr)\n",
    "motor_balti_total<-SCC %>% filter(SCC.Level.One==\"Mobile Sources\") %>% filter(grepl(\"Vehicle\",SCC.Level.Two) ) %>%\n",
    "merge(NEI,by=\"SCC\") %>% filter(fips == \"24510\") %>% group_by(year) %>% summarise(total=sum(Emissions))\n",
    "motor_LA_total<-SCC %>% filter(SCC.Level.One==\"Mobile Sources\") %>% filter(grepl(\"Vehicle\",SCC.Level.Two) ) %>%\n",
    "merge(NEI,by=\"SCC\") %>% filter(fips == \"06037\") %>% group_by(year) %>% summarise(total=sum(Emissions))\n",
    "plot(motor_LA_total$year,motor_LA_total$total,type=\"l\",col='blue',xlab=\"Years\",\n",
    "                    ylab=\"Total PM2.5 emissions\",main=\"Total PM2.5 emission by Year in \",ylim=c(0,7500))\n",
    "    lines(motor_LA_total$year,motor_balti_total$total, col=\"red\")\n",
    "legend(\"left\",legend=c(\"Los Angeles County\",\"Baltimore City\"),col=c(\"blue\",\"red\"),lty=1)\n",
    "\n",
    "    "
   ]
  }
 ],
 "metadata": {
  "kernelspec": {
   "display_name": "R",
   "language": "R",
   "name": "ir"
  },
  "language_info": {
   "codemirror_mode": "r",
   "file_extension": ".r",
   "mimetype": "text/x-r-source",
   "name": "R",
   "pygments_lexer": "r",
   "version": "3.6.3"
  }
 },
 "nbformat": 4,
 "nbformat_minor": 4
}
