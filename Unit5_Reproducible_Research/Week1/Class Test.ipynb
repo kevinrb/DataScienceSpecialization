{
 "cells": [
  {
   "cell_type": "code",
   "execution_count": 11,
   "metadata": {},
   "outputs": [
    {
     "data": {
      "text/plain": [
       "trainIndicator\n",
       "   0    1 \n",
       "2314 2287 "
      ]
     },
     "metadata": {},
     "output_type": "display_data"
    }
   ],
   "source": [
    "library(kernlab)\n",
    "data(spam)\n",
    "\n",
    "set.seed(3435)\n",
    "trainIndicator = rbinom(4601, size=1,prob=0.5)\n",
    "table(trainIndicator)"
   ]
  },
  {
   "cell_type": "code",
   "execution_count": 12,
   "metadata": {},
   "outputs": [
    {
     "data": {
      "text/html": [
       "<style>\n",
       ".list-inline {list-style: none; margin:0; padding: 0}\n",
       ".list-inline>li {display: inline-block}\n",
       ".list-inline>li:not(:last-child)::after {content: \"\\00b7\"; padding: 0 .5ex}\n",
       "</style>\n",
       "<ol class=list-inline><li>'make'</li><li>'address'</li><li>'all'</li><li>'num3d'</li><li>'our'</li><li>'over'</li><li>'remove'</li><li>'internet'</li><li>'order'</li><li>'mail'</li><li>'receive'</li><li>'will'</li><li>'people'</li><li>'report'</li><li>'addresses'</li><li>'free'</li><li>'business'</li><li>'email'</li><li>'you'</li><li>'credit'</li><li>'your'</li><li>'font'</li><li>'num000'</li><li>'money'</li><li>'hp'</li><li>'hpl'</li><li>'george'</li><li>'num650'</li><li>'lab'</li><li>'labs'</li><li>'telnet'</li><li>'num857'</li><li>'data'</li><li>'num415'</li><li>'num85'</li><li>'technology'</li><li>'num1999'</li><li>'parts'</li><li>'pm'</li><li>'direct'</li><li>'cs'</li><li>'meeting'</li><li>'original'</li><li>'project'</li><li>'re'</li><li>'edu'</li><li>'table'</li><li>'conference'</li><li>'charSemicolon'</li><li>'charRoundbracket'</li><li>'charSquarebracket'</li><li>'charExclamation'</li><li>'charDollar'</li><li>'charHash'</li><li>'capitalAve'</li><li>'capitalLong'</li><li>'capitalTotal'</li><li>'type'</li></ol>\n"
      ],
      "text/latex": [
       "\\begin{enumerate*}\n",
       "\\item 'make'\n",
       "\\item 'address'\n",
       "\\item 'all'\n",
       "\\item 'num3d'\n",
       "\\item 'our'\n",
       "\\item 'over'\n",
       "\\item 'remove'\n",
       "\\item 'internet'\n",
       "\\item 'order'\n",
       "\\item 'mail'\n",
       "\\item 'receive'\n",
       "\\item 'will'\n",
       "\\item 'people'\n",
       "\\item 'report'\n",
       "\\item 'addresses'\n",
       "\\item 'free'\n",
       "\\item 'business'\n",
       "\\item 'email'\n",
       "\\item 'you'\n",
       "\\item 'credit'\n",
       "\\item 'your'\n",
       "\\item 'font'\n",
       "\\item 'num000'\n",
       "\\item 'money'\n",
       "\\item 'hp'\n",
       "\\item 'hpl'\n",
       "\\item 'george'\n",
       "\\item 'num650'\n",
       "\\item 'lab'\n",
       "\\item 'labs'\n",
       "\\item 'telnet'\n",
       "\\item 'num857'\n",
       "\\item 'data'\n",
       "\\item 'num415'\n",
       "\\item 'num85'\n",
       "\\item 'technology'\n",
       "\\item 'num1999'\n",
       "\\item 'parts'\n",
       "\\item 'pm'\n",
       "\\item 'direct'\n",
       "\\item 'cs'\n",
       "\\item 'meeting'\n",
       "\\item 'original'\n",
       "\\item 'project'\n",
       "\\item 're'\n",
       "\\item 'edu'\n",
       "\\item 'table'\n",
       "\\item 'conference'\n",
       "\\item 'charSemicolon'\n",
       "\\item 'charRoundbracket'\n",
       "\\item 'charSquarebracket'\n",
       "\\item 'charExclamation'\n",
       "\\item 'charDollar'\n",
       "\\item 'charHash'\n",
       "\\item 'capitalAve'\n",
       "\\item 'capitalLong'\n",
       "\\item 'capitalTotal'\n",
       "\\item 'type'\n",
       "\\end{enumerate*}\n"
      ],
      "text/markdown": [
       "1. 'make'\n",
       "2. 'address'\n",
       "3. 'all'\n",
       "4. 'num3d'\n",
       "5. 'our'\n",
       "6. 'over'\n",
       "7. 'remove'\n",
       "8. 'internet'\n",
       "9. 'order'\n",
       "10. 'mail'\n",
       "11. 'receive'\n",
       "12. 'will'\n",
       "13. 'people'\n",
       "14. 'report'\n",
       "15. 'addresses'\n",
       "16. 'free'\n",
       "17. 'business'\n",
       "18. 'email'\n",
       "19. 'you'\n",
       "20. 'credit'\n",
       "21. 'your'\n",
       "22. 'font'\n",
       "23. 'num000'\n",
       "24. 'money'\n",
       "25. 'hp'\n",
       "26. 'hpl'\n",
       "27. 'george'\n",
       "28. 'num650'\n",
       "29. 'lab'\n",
       "30. 'labs'\n",
       "31. 'telnet'\n",
       "32. 'num857'\n",
       "33. 'data'\n",
       "34. 'num415'\n",
       "35. 'num85'\n",
       "36. 'technology'\n",
       "37. 'num1999'\n",
       "38. 'parts'\n",
       "39. 'pm'\n",
       "40. 'direct'\n",
       "41. 'cs'\n",
       "42. 'meeting'\n",
       "43. 'original'\n",
       "44. 'project'\n",
       "45. 're'\n",
       "46. 'edu'\n",
       "47. 'table'\n",
       "48. 'conference'\n",
       "49. 'charSemicolon'\n",
       "50. 'charRoundbracket'\n",
       "51. 'charSquarebracket'\n",
       "52. 'charExclamation'\n",
       "53. 'charDollar'\n",
       "54. 'charHash'\n",
       "55. 'capitalAve'\n",
       "56. 'capitalLong'\n",
       "57. 'capitalTotal'\n",
       "58. 'type'\n",
       "\n",
       "\n"
      ],
      "text/plain": [
       " [1] \"make\"              \"address\"           \"all\"              \n",
       " [4] \"num3d\"             \"our\"               \"over\"             \n",
       " [7] \"remove\"            \"internet\"          \"order\"            \n",
       "[10] \"mail\"              \"receive\"           \"will\"             \n",
       "[13] \"people\"            \"report\"            \"addresses\"        \n",
       "[16] \"free\"              \"business\"          \"email\"            \n",
       "[19] \"you\"               \"credit\"            \"your\"             \n",
       "[22] \"font\"              \"num000\"            \"money\"            \n",
       "[25] \"hp\"                \"hpl\"               \"george\"           \n",
       "[28] \"num650\"            \"lab\"               \"labs\"             \n",
       "[31] \"telnet\"            \"num857\"            \"data\"             \n",
       "[34] \"num415\"            \"num85\"             \"technology\"       \n",
       "[37] \"num1999\"           \"parts\"             \"pm\"               \n",
       "[40] \"direct\"            \"cs\"                \"meeting\"          \n",
       "[43] \"original\"          \"project\"           \"re\"               \n",
       "[46] \"edu\"               \"table\"             \"conference\"       \n",
       "[49] \"charSemicolon\"     \"charRoundbracket\"  \"charSquarebracket\"\n",
       "[52] \"charExclamation\"   \"charDollar\"        \"charHash\"         \n",
       "[55] \"capitalAve\"        \"capitalLong\"       \"capitalTotal\"     \n",
       "[58] \"type\"             "
      ]
     },
     "metadata": {},
     "output_type": "display_data"
    }
   ],
   "source": [
    "trainSpam = spam[trainIndicator ==1,]\n",
    "testSpam = spam[trainIndicator ==0,]\n",
    "names(trainSpam)"
   ]
  },
  {
   "cell_type": "code",
   "execution_count": 13,
   "metadata": {},
   "outputs": [
    {
     "data": {
      "text/html": [
       "<table>\n",
       "<caption>A data.frame: 6 × 58</caption>\n",
       "<thead>\n",
       "\t<tr><th></th><th scope=col>make</th><th scope=col>address</th><th scope=col>all</th><th scope=col>num3d</th><th scope=col>our</th><th scope=col>over</th><th scope=col>remove</th><th scope=col>internet</th><th scope=col>order</th><th scope=col>mail</th><th scope=col>...</th><th scope=col>charSemicolon</th><th scope=col>charRoundbracket</th><th scope=col>charSquarebracket</th><th scope=col>charExclamation</th><th scope=col>charDollar</th><th scope=col>charHash</th><th scope=col>capitalAve</th><th scope=col>capitalLong</th><th scope=col>capitalTotal</th><th scope=col>type</th></tr>\n",
       "\t<tr><th></th><th scope=col>&lt;dbl&gt;</th><th scope=col>&lt;dbl&gt;</th><th scope=col>&lt;dbl&gt;</th><th scope=col>&lt;dbl&gt;</th><th scope=col>&lt;dbl&gt;</th><th scope=col>&lt;dbl&gt;</th><th scope=col>&lt;dbl&gt;</th><th scope=col>&lt;dbl&gt;</th><th scope=col>&lt;dbl&gt;</th><th scope=col>&lt;dbl&gt;</th><th scope=col>...</th><th scope=col>&lt;dbl&gt;</th><th scope=col>&lt;dbl&gt;</th><th scope=col>&lt;dbl&gt;</th><th scope=col>&lt;dbl&gt;</th><th scope=col>&lt;dbl&gt;</th><th scope=col>&lt;dbl&gt;</th><th scope=col>&lt;dbl&gt;</th><th scope=col>&lt;dbl&gt;</th><th scope=col>&lt;dbl&gt;</th><th scope=col>&lt;fct&gt;</th></tr>\n",
       "</thead>\n",
       "<tbody>\n",
       "\t<tr><th scope=row>1</th><td>0.00</td><td>0.64</td><td>0.64</td><td>0</td><td>0.32</td><td>0.00</td><td>0.00</td><td>0</td><td>0.00</td><td>0.00</td><td>...</td><td>0.000</td><td>0.000</td><td>0</td><td>0.778</td><td>0.000</td><td>0.000</td><td>3.756</td><td> 61</td><td> 278</td><td>spam</td></tr>\n",
       "\t<tr><th scope=row>7</th><td>0.00</td><td>0.00</td><td>0.00</td><td>0</td><td>1.92</td><td>0.00</td><td>0.00</td><td>0</td><td>0.00</td><td>0.64</td><td>...</td><td>0.000</td><td>0.054</td><td>0</td><td>0.164</td><td>0.054</td><td>0.000</td><td>1.671</td><td>  4</td><td> 112</td><td>spam</td></tr>\n",
       "\t<tr><th scope=row>9</th><td>0.15</td><td>0.00</td><td>0.46</td><td>0</td><td>0.61</td><td>0.00</td><td>0.30</td><td>0</td><td>0.92</td><td>0.76</td><td>...</td><td>0.000</td><td>0.271</td><td>0</td><td>0.181</td><td>0.203</td><td>0.022</td><td>9.744</td><td>445</td><td>1257</td><td>spam</td></tr>\n",
       "\t<tr><th scope=row>12</th><td>0.00</td><td>0.00</td><td>0.25</td><td>0</td><td>0.38</td><td>0.25</td><td>0.25</td><td>0</td><td>0.00</td><td>0.00</td><td>...</td><td>0.022</td><td>0.044</td><td>0</td><td>0.663</td><td>0.000</td><td>0.000</td><td>1.243</td><td> 11</td><td> 184</td><td>spam</td></tr>\n",
       "\t<tr><th scope=row>14</th><td>0.00</td><td>0.00</td><td>0.00</td><td>0</td><td>0.90</td><td>0.00</td><td>0.90</td><td>0</td><td>0.00</td><td>0.90</td><td>...</td><td>0.000</td><td>0.000</td><td>0</td><td>0.000</td><td>0.000</td><td>0.000</td><td>2.083</td><td>  7</td><td>  25</td><td>spam</td></tr>\n",
       "\t<tr><th scope=row>16</th><td>0.00</td><td>0.42</td><td>0.42</td><td>0</td><td>1.27</td><td>0.00</td><td>0.42</td><td>0</td><td>0.00</td><td>1.27</td><td>...</td><td>0.000</td><td>0.063</td><td>0</td><td>0.572</td><td>0.063</td><td>0.000</td><td>5.659</td><td> 55</td><td> 249</td><td>spam</td></tr>\n",
       "</tbody>\n",
       "</table>\n"
      ],
      "text/latex": [
       "A data.frame: 6 × 58\n",
       "\\begin{tabular}{r|lllllllllllllllllllll}\n",
       "  & make & address & all & num3d & our & over & remove & internet & order & mail & ... & charSemicolon & charRoundbracket & charSquarebracket & charExclamation & charDollar & charHash & capitalAve & capitalLong & capitalTotal & type\\\\\n",
       "  & <dbl> & <dbl> & <dbl> & <dbl> & <dbl> & <dbl> & <dbl> & <dbl> & <dbl> & <dbl> & ... & <dbl> & <dbl> & <dbl> & <dbl> & <dbl> & <dbl> & <dbl> & <dbl> & <dbl> & <fct>\\\\\n",
       "\\hline\n",
       "\t1 & 0.00 & 0.64 & 0.64 & 0 & 0.32 & 0.00 & 0.00 & 0 & 0.00 & 0.00 & ... & 0.000 & 0.000 & 0 & 0.778 & 0.000 & 0.000 & 3.756 &  61 &  278 & spam\\\\\n",
       "\t7 & 0.00 & 0.00 & 0.00 & 0 & 1.92 & 0.00 & 0.00 & 0 & 0.00 & 0.64 & ... & 0.000 & 0.054 & 0 & 0.164 & 0.054 & 0.000 & 1.671 &   4 &  112 & spam\\\\\n",
       "\t9 & 0.15 & 0.00 & 0.46 & 0 & 0.61 & 0.00 & 0.30 & 0 & 0.92 & 0.76 & ... & 0.000 & 0.271 & 0 & 0.181 & 0.203 & 0.022 & 9.744 & 445 & 1257 & spam\\\\\n",
       "\t12 & 0.00 & 0.00 & 0.25 & 0 & 0.38 & 0.25 & 0.25 & 0 & 0.00 & 0.00 & ... & 0.022 & 0.044 & 0 & 0.663 & 0.000 & 0.000 & 1.243 &  11 &  184 & spam\\\\\n",
       "\t14 & 0.00 & 0.00 & 0.00 & 0 & 0.90 & 0.00 & 0.90 & 0 & 0.00 & 0.90 & ... & 0.000 & 0.000 & 0 & 0.000 & 0.000 & 0.000 & 2.083 &   7 &   25 & spam\\\\\n",
       "\t16 & 0.00 & 0.42 & 0.42 & 0 & 1.27 & 0.00 & 0.42 & 0 & 0.00 & 1.27 & ... & 0.000 & 0.063 & 0 & 0.572 & 0.063 & 0.000 & 5.659 &  55 &  249 & spam\\\\\n",
       "\\end{tabular}\n"
      ],
      "text/markdown": [
       "\n",
       "A data.frame: 6 × 58\n",
       "\n",
       "| <!--/--> | make &lt;dbl&gt; | address &lt;dbl&gt; | all &lt;dbl&gt; | num3d &lt;dbl&gt; | our &lt;dbl&gt; | over &lt;dbl&gt; | remove &lt;dbl&gt; | internet &lt;dbl&gt; | order &lt;dbl&gt; | mail &lt;dbl&gt; | ... ... | charSemicolon &lt;dbl&gt; | charRoundbracket &lt;dbl&gt; | charSquarebracket &lt;dbl&gt; | charExclamation &lt;dbl&gt; | charDollar &lt;dbl&gt; | charHash &lt;dbl&gt; | capitalAve &lt;dbl&gt; | capitalLong &lt;dbl&gt; | capitalTotal &lt;dbl&gt; | type &lt;fct&gt; |\n",
       "|---|---|---|---|---|---|---|---|---|---|---|---|---|---|---|---|---|---|---|---|---|---|\n",
       "| 1 | 0.00 | 0.64 | 0.64 | 0 | 0.32 | 0.00 | 0.00 | 0 | 0.00 | 0.00 | ... | 0.000 | 0.000 | 0 | 0.778 | 0.000 | 0.000 | 3.756 |  61 |  278 | spam |\n",
       "| 7 | 0.00 | 0.00 | 0.00 | 0 | 1.92 | 0.00 | 0.00 | 0 | 0.00 | 0.64 | ... | 0.000 | 0.054 | 0 | 0.164 | 0.054 | 0.000 | 1.671 |   4 |  112 | spam |\n",
       "| 9 | 0.15 | 0.00 | 0.46 | 0 | 0.61 | 0.00 | 0.30 | 0 | 0.92 | 0.76 | ... | 0.000 | 0.271 | 0 | 0.181 | 0.203 | 0.022 | 9.744 | 445 | 1257 | spam |\n",
       "| 12 | 0.00 | 0.00 | 0.25 | 0 | 0.38 | 0.25 | 0.25 | 0 | 0.00 | 0.00 | ... | 0.022 | 0.044 | 0 | 0.663 | 0.000 | 0.000 | 1.243 |  11 |  184 | spam |\n",
       "| 14 | 0.00 | 0.00 | 0.00 | 0 | 0.90 | 0.00 | 0.90 | 0 | 0.00 | 0.90 | ... | 0.000 | 0.000 | 0 | 0.000 | 0.000 | 0.000 | 2.083 |   7 |   25 | spam |\n",
       "| 16 | 0.00 | 0.42 | 0.42 | 0 | 1.27 | 0.00 | 0.42 | 0 | 0.00 | 1.27 | ... | 0.000 | 0.063 | 0 | 0.572 | 0.063 | 0.000 | 5.659 |  55 |  249 | spam |\n",
       "\n"
      ],
      "text/plain": [
       "   make address all  num3d our  over remove internet order mail ...\n",
       "1  0.00 0.64    0.64 0     0.32 0.00 0.00   0        0.00  0.00 ...\n",
       "7  0.00 0.00    0.00 0     1.92 0.00 0.00   0        0.00  0.64 ...\n",
       "9  0.15 0.00    0.46 0     0.61 0.00 0.30   0        0.92  0.76 ...\n",
       "12 0.00 0.00    0.25 0     0.38 0.25 0.25   0        0.00  0.00 ...\n",
       "14 0.00 0.00    0.00 0     0.90 0.00 0.90   0        0.00  0.90 ...\n",
       "16 0.00 0.42    0.42 0     1.27 0.00 0.42   0        0.00  1.27 ...\n",
       "   charSemicolon charRoundbracket charSquarebracket charExclamation charDollar\n",
       "1  0.000         0.000            0                 0.778           0.000     \n",
       "7  0.000         0.054            0                 0.164           0.054     \n",
       "9  0.000         0.271            0                 0.181           0.203     \n",
       "12 0.022         0.044            0                 0.663           0.000     \n",
       "14 0.000         0.000            0                 0.000           0.000     \n",
       "16 0.000         0.063            0                 0.572           0.063     \n",
       "   charHash capitalAve capitalLong capitalTotal type\n",
       "1  0.000    3.756       61          278         spam\n",
       "7  0.000    1.671        4          112         spam\n",
       "9  0.022    9.744      445         1257         spam\n",
       "12 0.000    1.243       11          184         spam\n",
       "14 0.000    2.083        7           25         spam\n",
       "16 0.000    5.659       55          249         spam"
      ]
     },
     "metadata": {},
     "output_type": "display_data"
    }
   ],
   "source": [
    "head(trainSpam)"
   ]
  },
  {
   "cell_type": "code",
   "execution_count": 14,
   "metadata": {},
   "outputs": [
    {
     "data": {
      "text/plain": [
       "\n",
       "nonspam    spam \n",
       "   1381     906 "
      ]
     },
     "metadata": {},
     "output_type": "display_data"
    }
   ],
   "source": [
    "table(trainSpam$type)"
   ]
  },
  {
   "cell_type": "code",
   "execution_count": 15,
   "metadata": {},
   "outputs": [
    {
     "data": {
      "image/png": "[encoded data removed]",
      "text/plain": [
       "plot without title"
      ]
     },
     "metadata": {
      "image/png": {
       "height": 420,
       "width": 420
      },
      "text/plain": {
       "height": 420,
       "width": 420
      }
     },
     "output_type": "display_data"
    }
   ],
   "source": [
    "plot(trainSpam$capitalAve ~ trainSpam$type)"
   ]
  },
  {
   "cell_type": "code",
   "execution_count": 16,
   "metadata": {
    "scrolled": false
   },
   "outputs": [
    {
     "data": {
      "image/png": "[encoded data removed]",
      "text/plain": [
       "plot without title"
      ]
     },
     "metadata": {
      "image/png": {
       "height": 420,
       "width": 420
      },
      "text/plain": {
       "height": 420,
       "width": 420
      }
     },
     "output_type": "display_data"
    }
   ],
   "source": [
    "plot(log10(trainSpam$capitalAve + 1) ~ trainSpam$type)"
   ]
  },
  {
   "cell_type": "code",
   "execution_count": 18,
   "metadata": {
    "scrolled": true
   },
   "outputs": [
    {
     "data": {
      "image/png": "[encoded data removed]",
      "text/plain": [
       "plot without title"
      ]
     },
     "metadata": {
      "image/png": {
       "height": 420,
       "width": 420
      },
      "text/plain": {
       "height": 420,
       "width": 420
      }
     },
     "output_type": "display_data"
    }
   ],
   "source": [
    "plot(log10(trainSpam[,1:4] + 1))"
   ]
  },
  {
   "cell_type": "code",
   "execution_count": 21,
   "metadata": {
    "scrolled": false
   },
   "outputs": [
    {
     "data": {
      "image/png": "[encoded data removed]",
      "text/plain": [
       "Plot with title \"Cluster Dendrogram\""
      ]
     },
     "metadata": {
      "image/png": {
       "height": 420,
       "width": 420
      },
      "text/plain": {
       "height": 420,
       "width": 420
      }
     },
     "output_type": "display_data"
    }
   ],
   "source": [
    "hCluster = hclust(dist(t(trainSpam[, 1:57])))\n",
    "plot(hCluster)"
   ]
  },
  {
   "cell_type": "code",
   "execution_count": 22,
   "metadata": {},
   "outputs": [
    {
     "data": {
      "image/png": "[encoded data removed]",
      "text/plain": [
       "Plot with title \"Cluster Dendrogram\""
      ]
     },
     "metadata": {
      "image/png": {
       "height": 420,
       "width": 420
      },
      "text/plain": {
       "height": 420,
       "width": 420
      }
     },
     "output_type": "display_data"
    }
   ],
   "source": [
    "hClusterupdated = hclust(dist(t(log10(trainSpam[, 1:57] + 1))))\n",
    "plot(hClusterupdated)"
   ]
  },
  {
   "cell_type": "code",
   "execution_count": 23,
   "metadata": {},
   "outputs": [
    {
     "name": "stderr",
     "output_type": "stream",
     "text": [
      "Warning message:\n",
      "\"glm.fit: fitted probabilities numerically 0 or 1 occurred\"\n",
      "Warning message:\n",
      "\"glm.fit: fitted probabilities numerically 0 or 1 occurred\"\n",
      "Warning message:\n",
      "\"glm.fit: fitted probabilities numerically 0 or 1 occurred\"\n",
      "Warning message:\n",
      "\"glm.fit: fitted probabilities numerically 0 or 1 occurred\"\n",
      "Warning message:\n",
      "\"glm.fit: fitted probabilities numerically 0 or 1 occurred\"\n",
      "Warning message:\n",
      "\"glm.fit: fitted probabilities numerically 0 or 1 occurred\"\n",
      "Warning message:\n",
      "\"glm.fit: fitted probabilities numerically 0 or 1 occurred\"\n",
      "Warning message:\n",
      "\"glm.fit: fitted probabilities numerically 0 or 1 occurred\"\n",
      "Warning message:\n",
      "\"glm.fit: fitted probabilities numerically 0 or 1 occurred\"\n",
      "Warning message:\n",
      "\"glm.fit: fitted probabilities numerically 0 or 1 occurred\"\n",
      "Warning message:\n",
      "\"glm.fit: fitted probabilities numerically 0 or 1 occurred\"\n",
      "Warning message:\n",
      "\"glm.fit: fitted probabilities numerically 0 or 1 occurred\"\n",
      "Warning message:\n",
      "\"glm.fit: fitted probabilities numerically 0 or 1 occurred\"\n",
      "Warning message:\n",
      "\"glm.fit: fitted probabilities numerically 0 or 1 occurred\"\n",
      "Warning message:\n",
      "\"glm.fit: fitted probabilities numerically 0 or 1 occurred\"\n",
      "Warning message:\n",
      "\"glm.fit: fitted probabilities numerically 0 or 1 occurred\"\n",
      "Warning message:\n",
      "\"glm.fit: fitted probabilities numerically 0 or 1 occurred\"\n",
      "Warning message:\n",
      "\"glm.fit: fitted probabilities numerically 0 or 1 occurred\"\n",
      "Warning message:\n",
      "\"glm.fit: fitted probabilities numerically 0 or 1 occurred\"\n",
      "Warning message:\n",
      "\"glm.fit: fitted probabilities numerically 0 or 1 occurred\"\n",
      "Warning message:\n",
      "\"glm.fit: fitted probabilities numerically 0 or 1 occurred\"\n",
      "Warning message:\n",
      "\"glm.fit: fitted probabilities numerically 0 or 1 occurred\"\n",
      "Warning message:\n",
      "\"glm.fit: fitted probabilities numerically 0 or 1 occurred\"\n",
      "Warning message:\n",
      "\"glm.fit: fitted probabilities numerically 0 or 1 occurred\"\n",
      "Warning message:\n",
      "\"glm.fit: fitted probabilities numerically 0 or 1 occurred\"\n",
      "Warning message:\n",
      "\"glm.fit: fitted probabilities numerically 0 or 1 occurred\"\n",
      "Warning message:\n",
      "\"glm.fit: fitted probabilities numerically 0 or 1 occurred\"\n",
      "Warning message:\n",
      "\"glm.fit: fitted probabilities numerically 0 or 1 occurred\"\n",
      "Warning message:\n",
      "\"glm.fit: fitted probabilities numerically 0 or 1 occurred\"\n",
      "Warning message:\n",
      "\"glm.fit: fitted probabilities numerically 0 or 1 occurred\"\n",
      "Warning message:\n",
      "\"glm.fit: fitted probabilities numerically 0 or 1 occurred\"\n",
      "Warning message:\n",
      "\"glm.fit: fitted probabilities numerically 0 or 1 occurred\"\n",
      "Warning message:\n",
      "\"glm.fit: fitted probabilities numerically 0 or 1 occurred\"\n",
      "Warning message:\n",
      "\"glm.fit: fitted probabilities numerically 0 or 1 occurred\"\n",
      "Warning message:\n",
      "\"glm.fit: fitted probabilities numerically 0 or 1 occurred\"\n",
      "Warning message:\n",
      "\"glm.fit: fitted probabilities numerically 0 or 1 occurred\"\n",
      "Warning message:\n",
      "\"glm.fit: fitted probabilities numerically 0 or 1 occurred\"\n",
      "Warning message:\n",
      "\"glm.fit: fitted probabilities numerically 0 or 1 occurred\"\n",
      "Warning message:\n",
      "\"glm.fit: fitted probabilities numerically 0 or 1 occurred\"\n",
      "Warning message:\n",
      "\"glm.fit: fitted probabilities numerically 0 or 1 occurred\"\n",
      "Warning message:\n",
      "\"glm.fit: fitted probabilities numerically 0 or 1 occurred\"\n",
      "Warning message:\n",
      "\"glm.fit: fitted probabilities numerically 0 or 1 occurred\"\n",
      "Warning message:\n",
      "\"glm.fit: fitted probabilities numerically 0 or 1 occurred\"\n",
      "Warning message:\n",
      "\"glm.fit: fitted probabilities numerically 0 or 1 occurred\"\n",
      "Warning message:\n",
      "\"glm.fit: fitted probabilities numerically 0 or 1 occurred\"\n",
      "Warning message:\n",
      "\"glm.fit: fitted probabilities numerically 0 or 1 occurred\"\n",
      "Warning message:\n",
      "\"glm.fit: fitted probabilities numerically 0 or 1 occurred\"\n",
      "Warning message:\n",
      "\"glm.fit: fitted probabilities numerically 0 or 1 occurred\"\n",
      "Warning message:\n",
      "\"glm.fit: fitted probabilities numerically 0 or 1 occurred\"\n",
      "Warning message:\n",
      "\"glm.fit: fitted probabilities numerically 0 or 1 occurred\"\n",
      "Warning message:\n",
      "\"glm.fit: fitted probabilities numerically 0 or 1 occurred\"\n",
      "Warning message:\n",
      "\"glm.fit: fitted probabilities numerically 0 or 1 occurred\"\n",
      "Warning message:\n",
      "\"glm.fit: fitted probabilities numerically 0 or 1 occurred\"\n",
      "Warning message:\n",
      "\"glm.fit: fitted probabilities numerically 0 or 1 occurred\"\n",
      "Warning message:\n",
      "\"glm.fit: fitted probabilities numerically 0 or 1 occurred\"\n",
      "Warning message:\n",
      "\"glm.fit: fitted probabilities numerically 0 or 1 occurred\"\n",
      "Warning message:\n",
      "\"glm.fit: fitted probabilities numerically 0 or 1 occurred\"\n",
      "Warning message:\n",
      "\"glm.fit: fitted probabilities numerically 0 or 1 occurred\"\n",
      "Warning message:\n",
      "\"glm.fit: fitted probabilities numerically 0 or 1 occurred\"\n",
      "Warning message:\n",
      "\"glm.fit: fitted probabilities numerically 0 or 1 occurred\"\n"
     ]
    },
    {
     "data": {
      "text/html": [
       "'charDollar'"
      ],
      "text/latex": [
       "'charDollar'"
      ],
      "text/markdown": [
       "'charDollar'"
      ],
      "text/plain": [
       "[1] \"charDollar\""
      ]
     },
     "metadata": {},
     "output_type": "display_data"
    }
   ],
   "source": [
    "trainSpam$numType = as.numeric(trainSpam$type) - 1\n",
    "costFunction = function(x,y) sum(x != (y > 0.5))\n",
    "cvError = rep(NA, 55)\n",
    "library(boot)\n",
    "for (i in 1:55){\n",
    "    lmFormula = reformulate(names(trainSpam)[i], response = \"numType\")\n",
    "    glmFit = glm(lmFormula, family = \"binomial\", data = trainSpam)\n",
    "    cvError[i] = cv.glm(trainSpam,glmFit,costFunction,2)$delta[2]\n",
    "}\n",
    "\n",
    "names(trainSpam)[which.min(cvError)]\n"
   ]
  },
  {
   "cell_type": "code",
   "execution_count": 24,
   "metadata": {},
   "outputs": [
    {
     "name": "stderr",
     "output_type": "stream",
     "text": [
      "Warning message:\n",
      "\"glm.fit: fitted probabilities numerically 0 or 1 occurred\"\n"
     ]
    }
   ],
   "source": [
    "predictionModel = glm(numType ~ charDollar, \n",
    "                      family = \"binomial\", data= trainSpam)\n",
    "predictionTest = predict(predictionModel, testSpam)\n",
    "predictedSpam = rep(\"nonspam\", dim(testSpam)[1])\n",
    "\n",
    "predictedSpam[predictionModel$fitted > 0.5] = \"spam\""
   ]
  },
  {
   "cell_type": "code",
   "execution_count": 25,
   "metadata": {},
   "outputs": [
    {
     "data": {
      "text/plain": [
       "             \n",
       "predictedSpam nonspam spam\n",
       "      nonspam    1346  458\n",
       "      spam         61  449"
      ]
     },
     "metadata": {},
     "output_type": "display_data"
    }
   ],
   "source": [
    "table(predictedSpam,testSpam$type)"
   ]
  },
  {
   "cell_type": "code",
   "execution_count": null,
   "metadata": {},
   "outputs": [],
   "source": []
  }
 ],
 "metadata": {
  "kernelspec": {
   "display_name": "R",
   "language": "R",
   "name": "ir"
  },
  "language_info": {
   "codemirror_mode": "r",
   "file_extension": ".r",
   "mimetype": "text/x-r-source",
   "name": "R",
   "pygments_lexer": "r",
   "version": "3.6.3"
  }
 },
 "nbformat": 4,
 "nbformat_minor": 4
}
